{
 "cells": [
  {
   "cell_type": "code",
   "execution_count": null,
   "metadata": {
    "ExecuteTime": {
     "end_time": "2021-01-07T17:37:28.312657Z",
     "start_time": "2021-01-07T17:37:27.886085Z"
    }
   },
   "outputs": [],
   "source": [
    "%matplotlib inline\n",
    "%config InlineBackend.figure_format = 'retina'\n",
    "from scipy.integrate import solve_ivp\n",
    "import numpy as np\n",
    "import matplotlib.pyplot as plt\n",
    "plt.style.use(r'~/PaperDoubleFig.mplstyle')\n",
    "\n",
    "def rhs(t, y):\n",
    "    \"\"\"\n",
    "    The right-hand side of the 1D canonical FEL equations;\n",
    "    t - the current time;\n",
    "    y - array of [A, theta, eta]\n",
    "    \"\"\"\n",
    "    n = len(y)//2\n",
    "    A = y[0]\n",
    "    theta = y[1:n+1]\n",
    "    eta = y[n+1:]\n",
    "    dA_dt = np.mean(np.exp(-1j*theta))\n",
    "    dtheta_dt = eta\n",
    "    deta_dt = -2*np.real(A*np.exp(1j*theta))\n",
    "    return np.concatenate(([dA_dt],\n",
    "                           dtheta_dt,\n",
    "                           deta_dt))\n",
    "\"\"\"\n",
    "sol = solve_ivp(rhs, [0, 4*np.pi],\n",
    "                np.concatenate(([A0+0j], theta0, eta0)),\n",
    "                max_step=0.1)\n",
    "\"\"\""
   ]
  },
  {
   "cell_type": "markdown",
   "metadata": {},
   "source": [
    "## Plotting functions"
   ]
  },
  {
   "cell_type": "code",
   "execution_count": null,
   "metadata": {
    "ExecuteTime": {
     "end_time": "2021-01-07T17:37:28.321860Z",
     "start_time": "2021-01-07T17:37:28.314818Z"
    }
   },
   "outputs": [],
   "source": [
    "def plot(sol):\n",
    "    ne = len(sol.y)//2\n",
    "    plt.semilogy(sol.t, np.abs(sol.y[0])**2)\n",
    "    plt.xlabel(r\"Normalized undulator coordinate, $\\tau$\")\n",
    "    plt.ylabel(r\"Normalized power (log scale), $|A|^2$\")\n",
    "    plt.xlim([0, tau])\n",
    "    plt.ylim([1e-8, 1.4])\n",
    "    plt.twinx()\n",
    "    plt.plot(sol.t, np.abs(sol.y[0])**2, 'r')\n",
    "    plt.ylabel(r\"Normalized power (lin scale), $|A|^2$\")\n",
    "    plt.ylim([0, 1.4])\n",
    "    plt.show()\n",
    "    plt.plot(sol.t, np.real(sol.y[1:ne+1,:].T)/np.pi)\n",
    "    plt.xlim([0, tau])\n",
    "    plt.xlabel(r\"Normalized undulator coordinate, $\\tau$\")\n",
    "    plt.ylabel(r\"Phase, $\\theta_n/\\pi$\")\n",
    "    plt.show()\n",
    "\n",
    "    plt.plot(sol.t, np.real(sol.y[ne+1:,:].T))\n",
    "    plt.xlim([0, tau])\n",
    "    plt.xlabel(r\"Normalized undulator coordinate, $\\tau$\")\n",
    "    plt.ylabel(r\"Energy detuning, $\\eta_n$\")\n",
    "    plt.twinx()\n",
    "    plt.plot(sol.t, np.mean(np.real(sol.y[ne+1:,:].T), axis=1), 'black',linestyle='-.', linewidth=3)\n",
    "    plt.ylabel(r\"Averaged energy detuning, $\\bar{\\eta}$\")\n",
    "    plt.show()"
   ]
  },
  {
   "cell_type": "markdown",
   "metadata": {},
   "source": [
    "## Naive start"
   ]
  },
  {
   "cell_type": "code",
   "execution_count": null,
   "metadata": {
    "ExecuteTime": {
     "end_time": "2021-01-07T17:37:29.468561Z",
     "start_time": "2021-01-07T17:37:28.324446Z"
    }
   },
   "outputs": [],
   "source": [
    "ne = 100\n",
    "tau = 20\n",
    "A0 = 0 \n",
    "theta0 = np.linspace(-4*np.pi, 4*np.pi, ne)\n",
    "p0 = np.zeros(ne)\n",
    "sol = solve_ivp(rhs, [0, tau], np.concatenate(([A0+0j], theta0, p0)), max_step=0.1)\n",
    "plot(sol)"
   ]
  },
  {
   "cell_type": "code",
   "execution_count": null,
   "metadata": {
    "ExecuteTime": {
     "end_time": "2021-01-07T17:37:30.399258Z",
     "start_time": "2021-01-07T17:37:29.470812Z"
    }
   },
   "outputs": [],
   "source": [
    "ne = 100\n",
    "tau = 20\n",
    "A0 = 0 \n",
    "theta0 = np.linspace(-4*np.pi, 4*np.pi, ne, endpoint=False)\n",
    "p0 = np.zeros(ne)\n",
    "sol = solve_ivp(rhs, [0, tau], np.concatenate(([A0+0j], theta0, p0)), max_step=0.1)\n",
    "plot(sol)"
   ]
  },
  {
   "cell_type": "markdown",
   "metadata": {},
   "source": [
    "## Seeded FEL"
   ]
  },
  {
   "cell_type": "code",
   "execution_count": null,
   "metadata": {
    "ExecuteTime": {
     "end_time": "2021-01-07T17:37:31.811087Z",
     "start_time": "2021-01-07T17:37:30.401100Z"
    }
   },
   "outputs": [],
   "source": [
    "ne = 100\n",
    "tau = 20\n",
    "A0 = 1e-3 \n",
    "theta0 = np.linspace(-4*np.pi, 4*np.pi, ne, endpoint=False)\n",
    "p0 = np.zeros(ne)\n",
    "sol = solve_ivp(rhs, [0, tau], np.concatenate(([A0+0j], theta0, p0)), max_step=0.1)\n",
    "plot(sol)\n",
    "A0 = 1e-3 \n",
    "t = sol.t[:100]\n",
    "E = A0*(np.exp((1j+np.sqrt(3))*t/2)\n",
    "            + np.exp((1j-np.sqrt(3))*t/2)\n",
    "            + np.exp(-1j*t)\n",
    "            )/3.\n",
    "plt.semilogy(t, np.abs(E)**2)\n",
    "plt.show()"
   ]
  },
  {
   "cell_type": "code",
   "execution_count": null,
   "metadata": {
    "ExecuteTime": {
     "end_time": "2021-01-07T17:37:32.341023Z",
     "start_time": "2021-01-07T17:37:31.813210Z"
    }
   },
   "outputs": [],
   "source": [
    "ne = 100\n",
    "tau = 5*np.pi\n",
    "theta0 = np.linspace(-4*np.pi, 4*np.pi, ne, endpoint=False)\n",
    "p0 = np.zeros(ne)\n",
    "for A0 in np.sqrt([1e-8, 1e-7, 1e-6, 1e-5, 1e-4, 1e-3, 1e-2, 1e-1]):\n",
    "    sol = solve_ivp(rhs, [0, tau], np.concatenate(([A0+0j], theta0, p0)), max_step=0.1)\n",
    "    plt.semilogy(sol.t, np.abs(sol.y[0])**2)\n",
    "plt.xlabel(r\"Normalized undulator coordinate, $\\tau$\")\n",
    "plt.ylabel(r\"Normalized power (log scale), $|A|^2$\")\n",
    "plt.xlim([0, tau])\n",
    "plt.ylim([1e-8, 1.8])\n",
    "plt.show()"
   ]
  },
  {
   "cell_type": "markdown",
   "metadata": {},
   "source": [
    "## SASE operation"
   ]
  },
  {
   "cell_type": "code",
   "execution_count": null,
   "metadata": {
    "ExecuteTime": {
     "end_time": "2021-01-07T17:37:33.297300Z",
     "start_time": "2021-01-07T17:37:32.342614Z"
    }
   },
   "outputs": [],
   "source": [
    "ne = 100\n",
    "tau = 5*np.pi\n",
    "A0 = 0 \n",
    "p0 = np.zeros(ne)\n",
    "theta0 = np.random.uniform(low=-4*np.pi, high=4*np.pi, size=ne)\n",
    "sol = solve_ivp(rhs, [0, tau], np.concatenate(([A0+0j], theta0, p0)), max_step=0.1)\n",
    "plot(sol)"
   ]
  },
  {
   "cell_type": "code",
   "execution_count": null,
   "metadata": {
    "ExecuteTime": {
     "end_time": "2021-01-07T17:37:39.030470Z",
     "start_time": "2021-01-07T17:37:33.300254Z"
    }
   },
   "outputs": [],
   "source": [
    "ne = 100\n",
    "tau = 10\n",
    "A0 = 0 \n",
    "p0 = np.zeros(ne)\n",
    "for n in np.arange(100):\n",
    "    theta0 = np.random.uniform(low=-4*np.pi, high=4*np.pi, size=ne)\n",
    "    sol = solve_ivp(rhs, [0, tau], np.concatenate(([A0+0j], theta0, p0)), max_step=0.1)\n",
    "    plt.plot(sol.t, np.abs(sol.y[0])**2)\n",
    "plt.xlabel(r\"Normalized undulator coordinate, $\\tau$\")\n",
    "plt.ylabel(r\"Normalized power (lin scale), $|A|^2$\")\n",
    "plt.xlim([0, tau])\n",
    "plt.ylim([1e-8, 1.8])\n",
    "plt.show()\n",
    "for n in np.arange(100):\n",
    "    theta0 = np.random.uniform(low=-4*np.pi, high=4*np.pi, size=ne)\n",
    "    sol = solve_ivp(rhs, [0, tau], np.concatenate(([A0+0j], theta0, p0)), max_step=0.1)\n",
    "    plt.semilogy(sol.t, np.abs(sol.y[0])**2)\n",
    "plt.xlabel(r\"Normalized undulator coordinate, $\\tau$\")\n",
    "plt.ylabel(r\"Normalized power (log scale), $|A|^2$\")\n",
    "plt.xlim([0, tau])\n",
    "plt.ylim([1e-8, 1.8])\n",
    "plt.show()"
   ]
  },
  {
   "cell_type": "markdown",
   "metadata": {},
   "source": [
    "## Energy spread"
   ]
  },
  {
   "cell_type": "code",
   "execution_count": null,
   "metadata": {
    "ExecuteTime": {
     "end_time": "2021-01-07T17:37:40.075802Z",
     "start_time": "2021-01-07T17:37:39.032331Z"
    }
   },
   "outputs": [],
   "source": [
    "ne = 100\n",
    "tau = 5*np.pi\n",
    "A0 = 0 \n",
    "theta0 = np.linspace(-4*np.pi, 4*np.pi, ne, endpoint=False)\n",
    "p0 = np.random.normal(0, 0.1, ne)\n",
    "sol = solve_ivp(rhs, [0, tau], np.concatenate(([A0+0j], theta0, p0)), max_step=0.1)\n",
    "plot(sol)"
   ]
  },
  {
   "cell_type": "code",
   "execution_count": null,
   "metadata": {
    "ExecuteTime": {
     "end_time": "2021-01-07T17:37:46.030822Z",
     "start_time": "2021-01-07T17:37:40.077118Z"
    }
   },
   "outputs": [],
   "source": [
    "ne = 100\n",
    "tau = 10\n",
    "A0 = 0 \n",
    "theta0 = np.linspace(-4*np.pi, 4*np.pi, ne, endpoint=False)\n",
    "for n in np.arange(100):\n",
    "    p0 = np.random.normal(0, 0.1, ne)\n",
    "    sol = solve_ivp(rhs, [0, tau], np.concatenate(([A0+0j], theta0, p0)), max_step=0.1)\n",
    "    plt.plot(sol.t, np.abs(sol.y[0])**2)\n",
    "plt.xlabel(r\"Normalized undulator coordinate, $\\tau$\")\n",
    "plt.ylabel(r\"Normalized power (lin scale), $|A|^2$\")\n",
    "plt.xlim([0, tau])\n",
    "plt.ylim([1e-8, 1.8])\n",
    "plt.show()\n",
    "for n in np.arange(100):\n",
    "    p0 = np.random.normal(0, 0.1, ne)\n",
    "    sol = solve_ivp(rhs, [0, tau], np.concatenate(([A0+0j], theta0, p0)), max_step=0.1)\n",
    "    plt.semilogy(sol.t, np.abs(sol.y[0])**2)\n",
    "plt.xlabel(r\"Normalized undulator coordinate, $\\tau$\")\n",
    "plt.ylabel(r\"Normalized power (log scale), $|A|^2$\")\n",
    "plt.xlim([0, tau])\n",
    "plt.ylim([1e-8, 1.8])\n",
    "plt.show()"
   ]
  },
  {
   "cell_type": "markdown",
   "metadata": {},
   "source": [
    "## Controlled SASE"
   ]
  },
  {
   "cell_type": "code",
   "execution_count": null,
   "metadata": {
    "ExecuteTime": {
     "end_time": "2021-01-07T17:37:47.049006Z",
     "start_time": "2021-01-07T17:37:46.032251Z"
    }
   },
   "outputs": [],
   "source": [
    "ne = 100\n",
    "tau = 5*np.pi\n",
    "A0 = 0\n",
    "dtheta = 2/np.sqrt(100)\n",
    "theta0 = np.linspace(-4*np.pi, 4*np.pi, ne, endpoint=False)\n",
    "theta0 -= dtheta*np.sin(theta0)\n",
    "p0 = np.zeros(ne)\n",
    "sol = solve_ivp(rhs, [0, tau], np.concatenate(([A0+0j], theta0, p0)), max_step=0.1)\n",
    "plot(sol)"
   ]
  },
  {
   "cell_type": "markdown",
   "metadata": {},
   "source": [
    "## Shot noise power"
   ]
  },
  {
   "cell_type": "code",
   "execution_count": null,
   "metadata": {
    "ExecuteTime": {
     "end_time": "2021-01-07T17:37:47.785472Z",
     "start_time": "2021-01-07T17:37:47.051040Z"
    }
   },
   "outputs": [],
   "source": [
    "ne = 25\n",
    "tau = 5*np.pi\n",
    "A0 = 0\n",
    "dtheta = 1.38e-3\n",
    "theta0 = np.linspace(-4*np.pi, 4*np.pi, ne, endpoint=False)\n",
    "theta0 -= dtheta*np.sin(theta0)\n",
    "p0 = np.zeros(ne)\n",
    "sol = solve_ivp(rhs, [0, tau], np.concatenate(([A0+0j], theta0, p0)), max_step=0.1)\n",
    "plot(sol)"
   ]
  },
  {
   "cell_type": "code",
   "execution_count": null,
   "metadata": {
    "ExecuteTime": {
     "end_time": "2021-01-07T17:37:48.596831Z",
     "start_time": "2021-01-07T17:37:47.786888Z"
    }
   },
   "outputs": [],
   "source": [
    "ne = 25\n",
    "tau = 5*np.pi\n",
    "A0 = 1.38e-3/2\n",
    "dtheta = 0\n",
    "theta0 = np.linspace(-4*np.pi, 4*np.pi, ne, endpoint=False)\n",
    "theta0 -= dtheta*np.sin(theta0)\n",
    "p0 = np.zeros(ne)\n",
    "sol = solve_ivp(rhs, [0, tau], np.concatenate(([A0+0j], theta0, p0)), max_step=0.1)\n",
    "plot(sol)"
   ]
  },
  {
   "cell_type": "code",
   "execution_count": null,
   "metadata": {
    "ExecuteTime": {
     "end_time": "2021-01-07T17:37:48.919641Z",
     "start_time": "2021-01-07T17:37:48.598325Z"
    }
   },
   "outputs": [],
   "source": [
    "ne = 25\n",
    "tau = 4*np.pi\n",
    "A0 = 0\n",
    "p0 = np.zeros(ne)\n",
    "dtheta = 1.38e-3\n",
    "theta0 = np.linspace(-4*np.pi, 4*np.pi, ne, endpoint=False)\n",
    "theta0 -= dtheta*np.sin(theta0)\n",
    "sol = solve_ivp(rhs, [0, tau], np.concatenate(([A0+0j], theta0, p0)), max_step=0.1)\n",
    "plt.semilogy(sol.t, np.abs(sol.y[0])**2, label='SASE')\n",
    "\n",
    "A0 = 1.38e-3/2\n",
    "dtheta = 0\n",
    "theta0 = np.linspace(-4*np.pi, 4*np.pi, ne, endpoint=False)\n",
    "theta0 -= dtheta*np.sin(theta0)\n",
    "sol = solve_ivp(rhs, [0, tau], np.concatenate(([A0+0j], theta0, p0)), max_step=0.1)\n",
    "plt.semilogy(sol.t, np.abs(sol.y[0])**2, 'r', label='shot-noise')\n",
    "plt.xlabel(r\"Normalized undulator coordinate, $\\tau$\")\n",
    "plt.ylabel(r\"Normalized power (log scale), $|A|^2$\")\n",
    "plt.xlim([0, tau])\n",
    "plt.ylim([1e-8, 1.8])\n",
    "plt.legend()\n",
    "plt.show()"
   ]
  },
  {
   "cell_type": "markdown",
   "metadata": {},
   "source": [
    "## Resonant condition"
   ]
  },
  {
   "cell_type": "code",
   "execution_count": null,
   "metadata": {
    "ExecuteTime": {
     "end_time": "2021-01-07T17:37:52.514136Z",
     "start_time": "2021-01-07T17:37:48.921096Z"
    }
   },
   "outputs": [],
   "source": [
    "ne = 25\n",
    "tau = 10*np.pi\n",
    "A0 = 1.38e-3/2\n",
    "dtheta = 0\n",
    "theta0 = np.linspace(-4*np.pi, 4*np.pi, ne, endpoint=False)\n",
    "theta0 -= dtheta*np.sin(theta0)\n",
    "res = []\n",
    "eta = np.linspace(-2,2.3)\n",
    "for eta0 in eta:\n",
    "    p0 = eta0*np.ones(ne)\n",
    "    sol = solve_ivp(rhs, [0, tau],\n",
    "                    np.concatenate(([A0+0j], theta0, p0)),\n",
    "                    max_step=0.1)\n",
    "    res.append(np.max(np.abs(sol.y[0])**2))\n",
    "plt.plot(eta, res, 'o-')\n",
    "plt.xlabel(r'Energy detuning, $\\eta_0$')\n",
    "plt.ylabel(r'Peak power, $max(|A|^2)$')\n",
    "plt.xlim([-2, 2.3])\n",
    "plt.ylim([0, 4])\n",
    "plt.show()"
   ]
  },
  {
   "cell_type": "code",
   "execution_count": null,
   "metadata": {
    "ExecuteTime": {
     "end_time": "2021-01-07T17:37:52.520289Z",
     "start_time": "2021-01-07T17:37:52.516335Z"
    }
   },
   "outputs": [],
   "source": [
    "def saseFit(sol):\n",
    "    peak = np.max(np.abs(sol.y[0])**2)\n",
    "    ipeak = np.argmax(np.abs(sol.y[0])**2)\n",
    "    iStart = np.argmin((sol.t-2)**2)\n",
    "    iStop = np.argmin((np.abs(sol.y[0][iStart:ipeak])**2-0.9*peak)**2)\n",
    "    x = sol.t[iStart:iStop]\n",
    "    y = np.abs(sol.y[0][iStart:iStop])**2\n",
    "    z = np.polyfit(x, np.log(y), 1)  # fit parameters\n",
    "    return 9.*np.exp(z[1]), z[0]"
   ]
  },
  {
   "cell_type": "code",
   "execution_count": null,
   "metadata": {
    "ExecuteTime": {
     "end_time": "2021-01-07T17:37:54.076286Z",
     "start_time": "2021-01-07T17:37:52.522481Z"
    }
   },
   "outputs": [],
   "source": [
    "ne = 25\n",
    "tau = 4*np.pi\n",
    "A0 = 1.38e-3/2\n",
    "dtheta = 0\n",
    "theta0 = np.linspace(-4*np.pi, 4*np.pi, ne, endpoint=False)\n",
    "theta0 -= dtheta*np.sin(theta0)\n",
    "res = []\n",
    "eta = np.linspace(-6,1.93, 50)\n",
    "for eta0 in eta:\n",
    "    p0 = eta0*np.ones(ne)\n",
    "    sol = solve_ivp(rhs, [0, tau],\n",
    "                    np.concatenate(([A0+0j], theta0, p0)),\n",
    "                    max_step=0.1)\n",
    "    try:\n",
    "        res.append(saseFit(sol)[1])\n",
    "    except:\n",
    "        break\n",
    "plt.plot(eta[:len(res)], res/np.sqrt(3), '.-')\n",
    "plt.xlabel(r'Energy detuning, $\\eta_0$')\n",
    "plt.ylabel(r'$\\Gamma/\\sqrt{3}$')\n",
    "plt.ylim([0,1.01])\n",
    "plt.show()"
   ]
  },
  {
   "cell_type": "markdown",
   "metadata": {},
   "source": [
    "- Energy spread does not reduce the gain as expected for some reason;"
   ]
  },
  {
   "cell_type": "code",
   "execution_count": null,
   "metadata": {
    "ExecuteTime": {
     "end_time": "2021-01-07T17:37:55.644152Z",
     "start_time": "2021-01-07T17:37:54.078533Z"
    }
   },
   "outputs": [],
   "source": [
    "ne = 25\n",
    "tau = 4*np.pi\n",
    "A0 = 1.38e-3/2\n",
    "dtheta = 0\n",
    "theta0 = np.linspace(-4*np.pi, 4*np.pi, ne, endpoint=False)\n",
    "theta0 -= dtheta*np.sin(theta0)\n",
    "res = []\n",
    "eta = np.linspace(-6,1.93, 50)\n",
    "for eta0 in eta:\n",
    "    p0 = np.random.normal(eta0, 0.01, ne)\n",
    "    sol = solve_ivp(rhs, [0, tau],\n",
    "                    np.concatenate(([A0+0j], theta0, p0)),\n",
    "                    max_step=0.1)\n",
    "    try:\n",
    "        res.append(saseFit(sol)[1])\n",
    "    except:\n",
    "        break\n",
    "plt.plot(eta[:len(res)], res/np.sqrt(3), '.-')\n",
    "plt.xlabel(r'Energy detuning, $\\eta_0$')\n",
    "plt.ylabel(r'$\\Gamma/\\sqrt{3}$')\n",
    "plt.ylim([0,1.01])\n",
    "plt.show()"
   ]
  },
  {
   "cell_type": "code",
   "execution_count": null,
   "metadata": {},
   "outputs": [],
   "source": []
  }
 ],
 "metadata": {
  "kernelspec": {
   "display_name": "Python 3",
   "language": "python",
   "name": "py3"
  },
  "language_info": {
   "codemirror_mode": {
    "name": "ipython",
    "version": 3
   },
   "file_extension": ".py",
   "mimetype": "text/x-python",
   "name": "python",
   "nbconvert_exporter": "python",
   "pygments_lexer": "ipython3",
   "version": "3.7.2"
  },
  "toc": {
   "base_numbering": 1,
   "nav_menu": {},
   "number_sections": true,
   "sideBar": true,
   "skip_h1_title": false,
   "title_cell": "Table of Contents",
   "title_sidebar": "Contents",
   "toc_cell": false,
   "toc_position": {},
   "toc_section_display": true,
   "toc_window_display": false
  }
 },
 "nbformat": 4,
 "nbformat_minor": 4
}
