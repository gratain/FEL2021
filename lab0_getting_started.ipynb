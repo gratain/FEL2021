{
 "cells": [
  {
   "cell_type": "markdown",
   "metadata": {},
   "source": [
    "![alt text](images/uspas.png)\n",
    "# VUV and X-ray Free Electron Lasers\n",
    "# Lab Day 1: Getting started\n",
    "#### In this session, we will make sure you have Python3 and lume-genesis installed on your computer. This includes installing Python packages that lume-genesis will need. \n",
    "##### Authors: N. Neveu, P. Anisimov, D. Nguyen, Y.S. Li\n",
    "----------"
   ]
  },
  {
   "cell_type": "markdown",
   "metadata": {},
   "source": [
    "### Note: If you already have Python3 and JupyterLab installed on your laptop, you can skip steps 1-2. Skip steps 3-4 if you are using a Python package manager that is not anaconda/conda.\n",
    "## 1. Install Python 3.x by downloading Anaconda. \n",
    "\n",
    "- Anaconda is a 'distribution' that contains python and many common python libraries. \n",
    "- This package will have some of the libraries you need for the labs. \n",
    "- Follow the installation instructions here (choose your operating system type): \n",
    "> https://docs.conda.io/projects/conda/en/latest/user-guide/install/ \n",
    "- Common conda commands: \n",
    ">https://docs.conda.io/projects/conda/en/latest/user-guide/tasks/manage-environments.html \n",
    "----"
   ]
  },
  {
   "cell_type": "markdown",
   "metadata": {},
   "source": [
    "## 2. Check that your Python3 install is working.\n",
    "\n",
    "Open a terminal (directory doesn't matter). You can do this two ways;  \n",
    "from the Anaconda home page or using finder / command prompt.\n",
    "Here are links for both methods:\n",
    "\n",
    "From Anaconda (recommended for windows users):\n",
    "- open navigator https://docs.anaconda.com/anaconda/user-guide/getting-started/\n",
    "- Under enviornments, right click base root:\n",
    "\n",
    "![alt text](images/anaconda-terminal.png)\n",
    "\n",
    "\n",
    "Or, the old fashioned way:\n",
    "- Mac: https://www.wikihow.com/Open-a-Terminal-Window-in-Mac\n",
    "- Windows: https://www.howtogeek.com/235101/10-ways-to-open-the-command-prompt-in-windows-10/\n",
    "On windows, there may be some issues finding the Anaconda/python path this way.\n",
    "\n",
    "\n",
    "In the terminal, copy paste or type the following to check your python version (You should see a version number 3.x.x):\n",
    ">```python\n",
    ">python --version\n",
    ">```\n",
    "\n",
    "![alt text](images/python_version.png)\n",
    "----\n"
   ]
  },
  {
   "cell_type": "markdown",
   "metadata": {},
   "source": [
    "# 3. Create a conda environment\n",
    "\n",
    "Conda environments keep your python packages seperated into groups instead of installing all packages in your base python location. This sometimes helps when version numbers clash or updates are needed. We will use this conda environment for all the lab exercises in this course. \n",
    "\n",
    "In the same terminal from step #2, or a new terminal, run the following command:\n",
    ">```python\n",
    ">conda create -n lume python=3.7 numpy scipy matplotlib jupyterlab h5py bokeh \n",
    ">```\n",
    "\n",
    "- This may take a few minutes, as some packages are large.\n",
    "- 'n' indicates the name of your environment will be 'lume'.\n",
    "- we are installing the packages numpy, scipy, etc...\n",
    "- note, I used python 3.7 when I made a new env a few weeks ago, use whatever 3.x version you want / downloaded from conda."
   ]
  },
  {
   "cell_type": "markdown",
   "metadata": {},
   "source": [
    "# 4. Check that your conda env works."
   ]
  },
  {
   "cell_type": "markdown",
   "metadata": {},
   "source": [
    "In the same terminal from #3, run the following command:\n",
    ">```python\n",
    "conda activate lume\n",
    "\n",
    "  \n",
    "You should see the name on left of the command line change, like so: \n",
    "![alt text](images/activate.png)\n",
    "----"
   ]
  },
  {
   "cell_type": "markdown",
   "metadata": {},
   "source": [
    "# 5. Cloning git repositories\n",
    "\n",
    "You will need two git repositories for these labs: \n",
    "- **zfel** is the Python wrapper/package we will use to run some of the 1D exercises.\n",
    "> https://github.com/slaclab/zfel.git\n",
    "- **openPMD-beamphysics** is used by lume-genesis for some postprocessing. This package formats output beam data in a standard way. \n",
    "> https://github.com/ChristopherMayes/openPMD-beamphysics.git\n",
    "\n",
    "To get these packages on your computer, open a terminal, and navigate to the location where you want the packages to live (can be anywhere). On my laptop, I have a 'github' folder: \n",
    "![alt text](images/github.png)\n",
    "\n",
    "Clone the repositories above with the following command:\n",
    ">```bash\n",
    ">git clone https://github.com/slaclab/zfel.git\n",
    ">git clone https://github.com/ChristopherMayes/openPMD-beamphysics.git\n",
    ">```  \n",
    "\n",
    "\n",
    "If you are looking at these instructions in a browser, and haven't cloned the lab exercise repository yet, go ahead and do that now too: \n",
    ">```bash\n",
    ">git clone https://github.com/uspas/FEL2021.git\n",
    ">```\n",
    "\n",
    "Note: if you do not have git installed on your computer, follow the directions here: https://git-scm.com/book/en/v2/Getting-Started-Installing-Git"
   ]
  },
  {
   "cell_type": "markdown",
   "metadata": {},
   "source": [
    "# 6. Adding to your Python PATH\n",
    "\n",
    "You will need to update your PYTHONPATH so that Python can find the git repositories when you run a Jupyter notebook. In general the command looks like this on Mac/Linux:\n",
    ">```python\n",
    "> # for OpenMPI\n",
    "> export PYTHONPATH=\"${PYTHONPATH}:/path/to/zfel\" \n",
    ">\n",
    ">```python\n",
    "> # for MPICH\n",
    "> export PYTHONPATH=\"${PYTHONPATH}:/path/to/openPMD-beamphysics\"\n",
    ">```\n",
    "\n",
    "\n",
    "You will need to add both the zfel and openPMD path to your PYTHONPATH. Here are instructions for adding to your path: \n",
    "- Mac/Linux: https://scipher.wordpress.com/2010/05/10/setting-your-pythonpath-environment-variable-linuxunixosx/\n",
    "- Windows: Section 3.6.1: https://docs.python.org/3.7/using/windows.html#excursus-setting-environment-variables"
   ]
  },
  {
   "cell_type": "markdown",
   "metadata": {},
   "source": [
    "# 7. Check that Python and packages work\n",
    "\n",
    "If you haven't done so already, in a terminal open this notebook with Jupyterlab:\n",
    ">```python\n",
    ">jupyter-lab\n",
    ">```\n",
    "\n",
    "In a terminal, start Jupyterlab. If things are working, you will see a lot of text in the terminal, and a web browser window open.\n",
    "![alt text](images/jupyter.png)\n",
    "\n",
    "Try running the command in the next cell (shift+enter)!"
   ]
  },
  {
   "cell_type": "code",
   "execution_count": null,
   "metadata": {},
   "outputs": [],
   "source": [
    "# Import lume-genesis package\n",
    "import genesis"
   ]
  },
  {
   "cell_type": "markdown",
   "metadata": {},
   "source": [
    "If you get a module not found error, like this: \n",
    "![alt text](images/module.png)\n",
    "\n",
    "There is probably an issue with your python path. Make sure you you opened a new terminal or sourced your .bashrc/.profile after editing your PYTHONPATH\n",
    "- start a fresh terminal, reactivate your conda env, and try the command again"
   ]
  },
  {
   "cell_type": "markdown",
   "metadata": {},
   "source": [
    "# 8. Install lume-genesis & Genesis 1.3 \n",
    "\n",
    "Now that you have a conda env set up, we can install lume-genesis through conda:\n",
    ">```python\n",
    ">conda install lume-genesis --channel conda-forge\n",
    ">```\n",
    "\n",
    "Instruction for Genesis installation are on the lume-genes readme page, and you have two options: \n",
    "\n",
    "- install a pre-compiled version via conda and your enviornment (same method as above w/ lume-genesis)\n",
    ">```python\n",
    "> # for OpenMPI\n",
    "> conda install -c conda-forge genesis2=*=mpi_openmpi*\n",
    "> # for MPICH\n",
    "> conda install -c conda-forge genesis2=*=mpi_mpich*\n",
    ">```\n",
    "- install using downloads and make (this may require tweaking your PATH).\n",
    "\n",
    "In either case, install the mpi version if you are not on windows. Instruction for both install options can be found here:\n",
    "\n",
    "> https://github.com/slaclab/Genesis-1.3-Version2\n",
    "\n",
    "\n"
   ]
  }
 ],
 "metadata": {
  "kernelspec": {
   "display_name": "Python 3",
   "language": "python",
   "name": "python3"
  },
  "language_info": {
   "codemirror_mode": {
    "name": "ipython",
    "version": 3
   },
   "file_extension": ".py",
   "mimetype": "text/x-python",
   "name": "python",
   "nbconvert_exporter": "python",
   "pygments_lexer": "ipython3",
   "version": "3.7.9"
  }
 },
 "nbformat": 4,
 "nbformat_minor": 4
}
