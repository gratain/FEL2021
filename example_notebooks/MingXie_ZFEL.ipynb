{
 "cells": [
  {
   "cell_type": "code",
   "execution_count": null,
   "metadata": {},
   "outputs": [],
   "source": [
    "# Run the line below to bring zfel to the system\n",
    "#! git clone https://github.com/slaclab/zfel.git"
   ]
  },
  {
   "cell_type": "code",
   "execution_count": null,
   "metadata": {},
   "outputs": [],
   "source": [
    "import numpy as np\n",
    "%matplotlib inline\n",
    "%config InlineBackend.figure_format = 'retina'\n",
    "import matplotlib.pyplot as plt\n",
    "plt.style.use(r'PaperDoubleFig.mplstyle')\n",
    "\n",
    "import os, sys\n",
    "sys.path.insert(0, os.path.abspath('zfel'))\n",
    "from zfel.old_scripts import mingxie"
   ]
  },
  {
   "cell_type": "code",
   "execution_count": null,
   "metadata": {},
   "outputs": [],
   "source": [
    "?mingxie"
   ]
  },
  {
   "cell_type": "code",
   "execution_count": null,
   "metadata": {},
   "outputs": [],
   "source": [
    "XLAMD = 1.86e-2  # undulator period\n",
    "XLAMDS = 0.3e-10  # desired x-ray wavelength\n",
    "CURPEAK = 3e3  # peak current\n",
    "GAMMA0 = 12e9/0.511e6  # energy in mc2\n",
    "energy = 0.511e6*GAMMA0  # beam energy in eV\n",
    "DELGAM = 1.5e-4\n",
    "sigma_e = DELGAM*energy  # energy spread in eV\n",
    "AWO = np.sqrt(2*GAMMA0**2*XLAMDS/XLAMD-1)  # we use resonant condition formula here\n",
    "K = np.sqrt(2)*AWO\n",
    "EMITX = 0.2e-6  # normalized emittance in x\n",
    "beta = 15  # beta function in meters\n",
    "RXBEAM = np.sqrt(beta*EMITX/GAMMA0)  # the corresponding beam size"
   ]
  },
  {
   "cell_type": "code",
   "execution_count": null,
   "metadata": {},
   "outputs": [],
   "source": [
    "# Some parameters\n",
    "params = {    \n",
    "    'sigma_x':RXBEAM,\n",
    "    'und_lambda':XLAMD,\n",
    "    'und_k':K,\n",
    "    'current':CURPEAK,\n",
    "    'gamma':GAMMA0,\n",
    "    'norm_emit':EMITX,\n",
    "    'sigma_E':sigma_e}\n",
    "\n",
    "\n",
    "mingxie(**params)"
   ]
  },
  {
   "cell_type": "markdown",
   "metadata": {},
   "source": [
    "# Beta scanning"
   ]
  },
  {
   "cell_type": "code",
   "execution_count": null,
   "metadata": {},
   "outputs": [],
   "source": [
    "n = 200\n",
    "params2 = {}\n",
    "# Duplicate all values\n",
    "for k,v in params.items():\n",
    "    params2[k] = np.array(n*[v])\n",
    "\n",
    "# Vary beta \n",
    "beta = np.linspace(5, 30, n)\n",
    "params2['sigma_x'] = np.sqrt(beta*EMITX/GAMMA0)\n",
    "\n",
    "# Calculate\n",
    "result = mingxie(**params2)   "
   ]
  },
  {
   "cell_type": "code",
   "execution_count": null,
   "metadata": {},
   "outputs": [],
   "source": [
    "fig, ax = plt.subplots()\n",
    "ax.set_xlabel(r'Average $\\beta$ (m)')\n",
    "ax.set_ylabel('Number of gain length to saturation')\n",
    "ax.plot(beta, result['saturation_length']/result['gain_length'])\n",
    "plt.show()"
   ]
  },
  {
   "cell_type": "code",
   "execution_count": null,
   "metadata": {},
   "outputs": [],
   "source": [
    "fig, ax1 = plt.subplots()\n",
    "plt.title(r\"Ming Xie predictions for different focusing\")\n",
    "ax1.plot(beta, result['saturation_length'])\n",
    "ax1.set_xlabel(r'Average $\\beta$ (m)')\n",
    "ax1.set_ylabel('Saturation length (m)')\n",
    "\n",
    "ax2 = ax1.twinx()\n",
    "ax2.plot(beta, 1e-9*result['saturation_power'], 'r')\n",
    "ax2.set_ylabel(r\"Saturation Power, GW\", color='r')\n",
    "ax2.tick_params('y', colors='r')\n",
    "plt.show()"
   ]
  },
  {
   "cell_type": "code",
   "execution_count": null,
   "metadata": {},
   "outputs": [],
   "source": [
    "fig, ax = plt.subplots()\n",
    "ax.plot(beta, result['saturation_power']/(1.6*result['pierce_parameter']*CURPEAK*energy))\n",
    "ax.set_xlabel(r'Average $\\beta$ (m)')\n",
    "ax.set_ylabel(r'FEL efficiency, $\\frac{P_{sat}}{1.6\\rho I_0 E }$')\n",
    "plt.show()"
   ]
  },
  {
   "cell_type": "markdown",
   "metadata": {},
   "source": [
    "# Emittance and Energy spread"
   ]
  },
  {
   "cell_type": "code",
   "execution_count": null,
   "metadata": {},
   "outputs": [],
   "source": [
    "XLAMD = 1.86e-2  # undulator period\n",
    "XLAMDS = 0.3e-10  # desired x-ray wavelength\n",
    "CURPEAK = 3e3  # peak current\n",
    "GAMMA0 = 12e9/0.511e6  # energy in mc2\n",
    "energy = 0.511e6*GAMMA0  # beam energy in eV\n",
    "DELGAM = 1.5e-4\n",
    "sigma_e = DELGAM*energy  # energy spread in eV\n",
    "AWO = np.sqrt(2*GAMMA0**2*XLAMDS/XLAMD-1)  # we use resonant condition formula here\n",
    "K = np.sqrt(2)*AWO\n",
    "EMITX = 0.2e-6  # normalized emittance in x\n",
    "beta = 15  # beta function in meters\n",
    "RXBEAM = np.sqrt(beta*EMITX/GAMMA0)  # the corresponding beam size"
   ]
  },
  {
   "cell_type": "code",
   "execution_count": null,
   "metadata": {},
   "outputs": [],
   "source": [
    "n = 50\n",
    "params2 = {}\n",
    "# Duplicate all values\n",
    "for k, v in params.items():\n",
    "    params2[k] = np.array(n*n*[v])\n",
    "sigma_e = np.linspace(0.1e-4, 3e-4)\n",
    "EMITX = np.linspace(0.1e-6, 0.5e-6)\n",
    "X, Y = np.meshgrid(EMITX, sigma_e)\n",
    "params2['norm_emit'], params2['sigma_E'] = X.flatten(), Y.flatten()*energy\n",
    "params2['sigma_x'] = np.sqrt(beta*params2['norm_emit']/GAMMA0)\n",
    "result = mingxie(**params2) "
   ]
  },
  {
   "cell_type": "code",
   "execution_count": null,
   "metadata": {},
   "outputs": [],
   "source": [
    "fig, ax = plt.subplots()\n",
    "c = ax.contour(1e6*X, 1e4*Y, 1e-9*result['saturation_power'].reshape(50,50), 15)\n",
    "#plt.colorbar()\n",
    "ax.clabel(c, inline=1, fontsize=14, fmt='%1.1f')\n",
    "ax.set_title('Saturation Power (GW)')\n",
    "ax.set_xlabel('Normalized Emittance (mm-mrad)')\n",
    "ax.set_ylabel(r'Relative energy spread ($\\times 10^{-4}$)')\n",
    "plt.show()"
   ]
  },
  {
   "cell_type": "code",
   "execution_count": null,
   "metadata": {},
   "outputs": [],
   "source": [
    "plt.contourf(1e6*X, 1e4*Y, 1e-9*result['saturation_power'].reshape(50,50), 15)\n",
    "plt.colorbar()\n",
    "plt.title('Saturation Power (GW)')\n",
    "plt.xlabel('Normalized Emittance (mm-mrad)')\n",
    "plt.ylabel(r'Relative energy spread ($\\times 10^{-4}$)')\n",
    "plt.show()"
   ]
  },
  {
   "cell_type": "code",
   "execution_count": null,
   "metadata": {},
   "outputs": [],
   "source": []
  }
 ],
 "metadata": {
  "kernelspec": {
   "display_name": "Python 3",
   "language": "python",
   "name": "py3"
  },
  "language_info": {
   "codemirror_mode": {
    "name": "ipython",
    "version": 3
   },
   "file_extension": ".py",
   "mimetype": "text/x-python",
   "name": "python",
   "nbconvert_exporter": "python",
   "pygments_lexer": "ipython3",
   "version": "3.7.2"
  }
 },
 "nbformat": 4,
 "nbformat_minor": 4
}
