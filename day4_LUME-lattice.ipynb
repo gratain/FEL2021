{
 "cells": [
  {
   "cell_type": "markdown",
   "id": "southwest-lottery",
   "metadata": {},
   "source": [
    "![alt text](images/uspas.png)\n",
    "# VUV and X-ray Free Electron Lasers\n",
    "# Running Genesis with lume-genesis\n",
    "#### In this session, we will use lume-genesis to do the following:\n",
    "- look at genesis lattice files\n",
    "\n",
    "Some comments and parameter descriptions taken from the Genesis manual: http://genesis.web.psi.ch/download.html   \n",
    "\n",
    "##### Instructors: D. Nguyen, P. Anisimov, N. Neveu\n",
    "##### Teaching Assistant: Y.S. Li\n",
    "----------"
   ]
  },
  {
   "cell_type": "markdown",
   "id": "every-vampire",
   "metadata": {},
   "source": [
    "# Lattice study"
   ]
  },
  {
   "cell_type": "code",
   "execution_count": null,
   "id": "descending-priority",
   "metadata": {},
   "outputs": [],
   "source": [
    "import numpy as np\n",
    "%matplotlib inline\n",
    "%config InlineBackend.figure_format = 'retina'\n",
    "import matplotlib.pyplot as plt\n",
    "plt.style.use(r'PaperDoubleFig.mplstyle')\n",
    "from genesis import Genesis\n",
    "import os"
   ]
  },
  {
   "cell_type": "markdown",
   "id": "cheap-firmware",
   "metadata": {},
   "source": [
    "- We create a Genesis simulation object in verbose mode;\n",
    "- We then run the simulation in order to generate files for study;\n",
    "- In the case that simulation fails, python gets stuck in the directory Genesis class was trying to run\n",
    "- Working directory has to be absolute path;\n",
    "- `use_tempdir=False` otherwise temporary directories get created in the `workdir`"
   ]
  },
  {
   "cell_type": "code",
   "execution_count": null,
   "id": "downtown-spice",
   "metadata": {},
   "outputs": [],
   "source": [
    "genesis_bin='/home/vagrant/.local/bin/genesis2-mpi'\n",
    "workdir = os.getcwd()+'/temp'\n",
    "gen = Genesis('template.in',\n",
    "              genesis_bin=genesis_bin,\n",
    "              workdir=workdir,\n",
    "              use_tempdir=False,\n",
    "              verbose=True)\n",
    "gen.binary_prefixes = ['mpirun', '-n', '1']\n",
    "gen['version'] = 1.0\n",
    "# undulator\n",
    "gen['xlamd'] = 0.0186\n",
    "gen['aw0'] = gen['awd'] = 0.86\n",
    "gen['nwig'] = int(80/gen['xlamd'])\n",
    "# electron beam\n",
    "gen['curpeak'] = 3000\n",
    "gen['curlen'] = 0  # negative for flattop; positive for Gaussian\n",
    "gen['gamma0'] = 12e9/0.511e6\n",
    "gen['delgam'] = 1.5e-4*gen['gamma0']\n",
    "gen['rxbeam'] = 1.1973e-05\n",
    "gen['rybeam'] = 1.0446e-05\n",
    "gen['emitx'] = gen['emity'] = 0.2e-6\n",
    "gen['npart'] = 2**10\n",
    "# radiation\n",
    "gen['xlamds'] = 2.9384e-11\n",
    "gen['prad0'] = 1e4\n",
    "gen['zrayl'] = 24\n",
    "gen['zwaist'] = 0\n",
    "# mesh\n",
    "gen['ncar'] = 151\n",
    "gen['dgrid'] = 100e-6\n",
    "# focusing\n",
    "gen['f1st'] = 5\n",
    "gen['fl'] = 10\n",
    "gen['quadf'] = 30.067217489485472\n",
    "gen['dl'] = 10\n",
    "gen['quadd'] = 30\n",
    "gen['drl'] = 100\n",
    "gen['nwig'] -= gen['nwig']%(gen['fl']+gen['dl']+2*gen['drl'])  # get the undulator length equal to the integer number of FODO length\n",
    "# simulation\n",
    "gen['delz'] = 5\n",
    "gen.run()\n",
    "gen.output['run_info']"
   ]
  },
  {
   "cell_type": "markdown",
   "id": "arctic-highland",
   "metadata": {},
   "source": [
    "- We print the content of the working directory created for the simulation"
   ]
  },
  {
   "cell_type": "code",
   "execution_count": null,
   "id": "roman-resident",
   "metadata": {},
   "outputs": [],
   "source": [
    "!ls {gen.path}"
   ]
  },
  {
   "cell_type": "markdown",
   "id": "northern-lawrence",
   "metadata": {},
   "source": [
    "- `run` is the script file to initiate the simulation;\n",
    "- `genesis.in` describes the simulation;\n",
    "- `genesis.out` is the main output of the simulation;\n",
    "- `genesis_lattice.out` is the magnetic lattice file used in the simulation;\n",
    "- You can see the contents of the files by running the command below;"
   ]
  },
  {
   "cell_type": "code",
   "execution_count": null,
   "id": "unavailable-reasoning",
   "metadata": {},
   "outputs": [],
   "source": [
    "!cat {gen.path+'/run'}"
   ]
  },
  {
   "cell_type": "code",
   "execution_count": null,
   "id": "incorrect-perspective",
   "metadata": {},
   "outputs": [],
   "source": [
    "!cat {gen.path+'/genesis_lattice.out'}"
   ]
  },
  {
   "cell_type": "markdown",
   "id": "capital-quarter",
   "metadata": {},
   "source": [
    "- A real FEL has undulator sectioned!\n",
    "- Let us introduce the gaps in sections:\n",
    "```\n",
    "# header is included\n",
    "? VERSION= 1.00  including new format\n",
    "? UNITLENGTH= 0.09300 :unit length in header\n",
    "QF      3.0067E+01    1    0\n",
    "AW      8.6000E-01   20    1\n",
    "! LOOP= 19\n",
    "QF     -3.0000E+01    2   20\n",
    "AW      8.6000E-01   20    2\n",
    "QF      3.0067E+01    2   20\n",
    "AW      8.6000E-01   20    2\n",
    "! ENDLOOP\n",
    "```"
   ]
  },
  {
   "cell_type": "code",
   "execution_count": null,
   "id": "useful-nickel",
   "metadata": {},
   "outputs": [],
   "source": [
    "genesis_bin='/home/vagrant/.local/bin/genesis2-mpi'\n",
    "workdir = os.getcwd()+'/temp'\n",
    "gen = Genesis('template.in',\n",
    "              genesis_bin=genesis_bin,\n",
    "              workdir=workdir,\n",
    "              use_tempdir=False,\n",
    "              verbose=True)\n",
    "gen.binary_prefixes = ['mpirun', '-n', '1']\n",
    "gen['version'] = 1.0\n",
    "\n",
    "# electron beam\n",
    "gen['curpeak'] = 3000\n",
    "gen['curlen'] = 0  # negative for flattop; positive for Gaussian\n",
    "gen['gamma0'] = 12e9/0.511e6\n",
    "gen['delgam'] = 1.5e-4*gen['gamma0']\n",
    "gen['rxbeam'] = 1.1973e-05\n",
    "gen['rybeam'] = 1.0446e-05\n",
    "gen['emitx'] = gen['emity'] = 0.2e-6\n",
    "gen['npart'] = 2**10\n",
    "# radiation\n",
    "gen['xlamds'] = 2.9384e-11\n",
    "gen['prad0'] = 1e4\n",
    "gen['zrayl'] = 24\n",
    "gen['zwaist'] = 0\n",
    "# mesh\n",
    "gen['ncar'] = 151\n",
    "gen['dgrid'] = 100e-6\n",
    "# focusing\n",
    "gen['xlamd'] = 1.86e-2\n",
    "gen['awd'] = 0.86\n",
    "gen['maginfile'] = 'marie.lat'\n",
    "gen.load_lattice('marie.lat')\n",
    "# simulation\n",
    "gen['delz'] = 5\n",
    "gen.run()\n",
    "gen.output['run_info']"
   ]
  },
  {
   "cell_type": "code",
   "execution_count": null,
   "id": "assured-rebel",
   "metadata": {},
   "outputs": [],
   "source": [
    "plt.plot(gen.output['data']['z'], 1e-9*gen.output['data']['power'][0])\n",
    "plt.xlabel('Undulator distance, m')\n",
    "plt.ylabel('Power, GW')\n",
    "plt.show()"
   ]
  },
  {
   "cell_type": "code",
   "execution_count": null,
   "id": "crude-softball",
   "metadata": {},
   "outputs": [],
   "source": [
    "!cat {gen.path+'/genesis_lattice.out'}"
   ]
  },
  {
   "cell_type": "markdown",
   "id": "located-bridal",
   "metadata": {},
   "source": [
    "- A real FEL has undulator sectioned!\n",
    "- Let us introduce the gaps in sections;\n",
    "- We have to fill in the gaps in order to maintain phase synchronism controlled by appropriate phase shifters in actual FELs;\n",
    "- Sometimes detuning the phase shifter can be used to suppress the fundamental harmonic.\n",
    "```\n",
    "# header is included\n",
    "? VERSION= 1.00  including new format\n",
    "? UNITLENGTH= 0.09300 :unit length in header\n",
    "QF      3.0067E+01    1    0\n",
    "AD      8.6000E-01    1    0\n",
    "AW      8.6000E-01   20    1\n",
    "! LOOP= 19\n",
    "QF     -3.0000E+01    2   20\n",
    "AD      8.6000E-01    2   20\n",
    "AW      8.6000E-01   20    2\n",
    "QF      3.0067E+01    2   20\n",
    "AD      8.6000E-01    2   20\n",
    "AW      8.6000E-01   20    2\n",
    "! ENDLOOP\n",
    "```"
   ]
  },
  {
   "cell_type": "code",
   "execution_count": null,
   "id": "cheap-valve",
   "metadata": {},
   "outputs": [],
   "source": [
    "genesis_bin='/home/vagrant/.local/bin/genesis2-mpi'\n",
    "workdir = os.getcwd()+'/temp'\n",
    "gen = Genesis('template.in',\n",
    "              genesis_bin=genesis_bin,\n",
    "              workdir=workdir,\n",
    "              use_tempdir=False,\n",
    "              verbose=True)\n",
    "gen.binary_prefixes = ['mpirun', '-n', '1']\n",
    "gen['version'] = 1.0\n",
    "\n",
    "# electron beam\n",
    "gen['curpeak'] = 3000\n",
    "gen['curlen'] = 0  # negative for flattop; positive for Gaussian\n",
    "gen['gamma0'] = 12e9/0.511e6\n",
    "gen['delgam'] = 1.5e-4*gen['gamma0']\n",
    "gen['rxbeam'] = 1.1973e-05\n",
    "gen['rybeam'] = 1.0446e-05\n",
    "gen['emitx'] = gen['emity'] = 0.2e-6\n",
    "gen['npart'] = 2**10\n",
    "# radiation\n",
    "gen['xlamds'] = 2.9384e-11\n",
    "gen['prad0'] = 1e4\n",
    "gen['zrayl'] = 24\n",
    "gen['zwaist'] = 0\n",
    "# mesh\n",
    "gen['ncar'] = 151\n",
    "gen['dgrid'] = 100e-6\n",
    "# focusing\n",
    "gen['xlamd'] = 1.86e-2\n",
    "gen['awd'] = 0.86\n",
    "gen['maginfile'] = 'marie_drift.lat'\n",
    "gen.load_lattice('marie_drift.lat')\n",
    "# simulation\n",
    "gen['delz'] = 5\n",
    "gen.run()\n",
    "gen.output['run_info']"
   ]
  },
  {
   "cell_type": "code",
   "execution_count": null,
   "id": "accomplished-sixth",
   "metadata": {},
   "outputs": [],
   "source": [
    "plt.plot(gen.output['data']['z'], 1e-9*gen.output['data']['power'][0])\n",
    "plt.xlabel('Undulator distance, m')\n",
    "plt.ylabel('Power, GW')\n",
    "plt.show()"
   ]
  },
  {
   "cell_type": "code",
   "execution_count": null,
   "id": "labeled-korea",
   "metadata": {},
   "outputs": [],
   "source": [
    "!cat {gen.path+'/genesis_lattice.out'}"
   ]
  },
  {
   "cell_type": "code",
   "execution_count": null,
   "id": "advised-skiing",
   "metadata": {},
   "outputs": [],
   "source": [
    "for e in [e for e in gen.lattice['eles'] if e['type']=='AD']:\n",
    "    e['strength'] = 0.87"
   ]
  },
  {
   "cell_type": "code",
   "execution_count": null,
   "id": "minute-minute",
   "metadata": {},
   "outputs": [],
   "source": [
    "gen.run()\n",
    "gen.output['run_info']"
   ]
  },
  {
   "cell_type": "code",
   "execution_count": null,
   "id": "delayed-spine",
   "metadata": {},
   "outputs": [],
   "source": [
    "plt.plot(gen.output['data']['z'], 1e-9*gen.output['data']['power'][0])\n",
    "plt.xlabel('Undulator distance, m')\n",
    "plt.ylabel('Power, GW')\n",
    "plt.show()"
   ]
  },
  {
   "cell_type": "code",
   "execution_count": null,
   "id": "agricultural-bookmark",
   "metadata": {},
   "outputs": [],
   "source": [
    "genesis_bin='/home/vagrant/.local/bin/genesis2-mpi'\n",
    "workdir = os.getcwd()+'/temp'\n",
    "gen = Genesis('template.in',\n",
    "              genesis_bin=genesis_bin,\n",
    "              workdir=workdir,\n",
    "              use_tempdir=False,\n",
    "              verbose=False)\n",
    "gen.binary_prefixes = ['mpirun', '-n', '1']\n",
    "gen['version'] = 1.0\n",
    "\n",
    "# electron beam\n",
    "gen['curpeak'] = 3000\n",
    "gen['curlen'] = 0  # negative for flattop; positive for Gaussian\n",
    "gen['gamma0'] = 12e9/0.511e6\n",
    "gen['delgam'] = 1.5e-4*gen['gamma0']\n",
    "gen['rxbeam'] = 1.1973e-05\n",
    "gen['rybeam'] = 1.0446e-05\n",
    "gen['emitx'] = gen['emity'] = 0.2e-6\n",
    "gen['npart'] = 2**10\n",
    "# radiation\n",
    "gen['xlamds'] = 2.9384e-11\n",
    "gen['prad0'] = 1e4\n",
    "gen['zrayl'] = 24\n",
    "gen['zwaist'] = 0\n",
    "# mesh\n",
    "gen['ncar'] = 151\n",
    "gen['dgrid'] = 100e-6\n",
    "# focusing\n",
    "gen['xlamd'] = 1.86e-2\n",
    "gen['awd'] = 0.86\n",
    "gen['maginfile'] = 'marie_drift.lat'\n",
    "gen.load_lattice('marie_drift.lat')\n",
    "# simulation\n",
    "gen['delz'] = 5"
   ]
  },
  {
   "cell_type": "code",
   "execution_count": null,
   "id": "express-heath",
   "metadata": {},
   "outputs": [],
   "source": [
    "res = []\n",
    "for awd in np.linspace(0.84, 0.88, 121):\n",
    "    for e in [e for e in gen.lattice['eles'] if e['type']=='AD']:\n",
    "        e['strength'] = awd\n",
    "    gen.run()\n",
    "    #gen.output['run_info']\n",
    "    res.append([awd, 1e-9*np.max(gen.output['data']['power'][0])])"
   ]
  },
  {
   "cell_type": "code",
   "execution_count": null,
   "id": "fantastic-hungarian",
   "metadata": {},
   "outputs": [],
   "source": [
    "plt.plot(*np.array(res).T)\n",
    "plt.ylabel('Power, GW')\n",
    "plt.xlabel('AD')\n",
    "plt.show()"
   ]
  },
  {
   "cell_type": "code",
   "execution_count": null,
   "id": "honey-directive",
   "metadata": {},
   "outputs": [],
   "source": []
  }
 ],
 "metadata": {
  "kernelspec": {
   "display_name": "Python 3",
   "language": "python",
   "name": "py3"
  },
  "language_info": {
   "codemirror_mode": {
    "name": "ipython",
    "version": 3
   },
   "file_extension": ".py",
   "mimetype": "text/x-python",
   "name": "python",
   "nbconvert_exporter": "python",
   "pygments_lexer": "ipython3",
   "version": "3.7.2"
  }
 },
 "nbformat": 4,
 "nbformat_minor": 5
}
