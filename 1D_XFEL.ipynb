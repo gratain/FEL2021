{
 "cells": [
  {
   "cell_type": "code",
   "execution_count": null,
   "metadata": {
    "ExecuteTime": {
     "end_time": "2021-01-08T04:45:52.501896Z",
     "start_time": "2021-01-08T04:45:51.370685Z"
    }
   },
   "outputs": [],
   "source": [
    "import numpy as np\n",
    "\n",
    "%matplotlib inline\n",
    "%config InlineBackend.figure_format = 'retina'\n",
    "import matplotlib.pyplot as plt\n",
    "plt.style.use(r'~/PaperDoubleFig.mplstyle')\n",
    "\n",
    "from scipy.integrate import solve_ivp\n",
    "\n",
    "\n",
    "class XFEL:\n",
    "    \"\"\"\n",
    "    One dimensional steady state FEL theory in universal scaling\n",
    "\n",
    "    Class XFEL implements numerical integration of pendulum equations coupled\n",
    "    with equation for the field A.\n",
    "    \"\"\"\n",
    "    def __init__(self, A=0,\n",
    "                 theta=0, d_theta=0.00186,\n",
    "                 eta=0, d_eta=0,\n",
    "                 n_theta=65, n_eta=19):\n",
    "        \"\"\"\n",
    "        Setting parameters and initial conditions for an XFEL in universal\n",
    "        scaling\n",
    "\n",
    "        A - field source, complex amplitude of EM field in the case of\n",
    "            amplifier config;\n",
    "        theta - central phase for the ensembel of electrons;\n",
    "        eta - central energy detuning for the ensemble of electrons;\n",
    "        d_theta - 1st harmonic contribution to shot-noise $2/\\sqrt{N_e}$;\n",
    "        d_eta - energy detuning spread for the ensemble of electrons;\n",
    "\n",
    "        n_theta - number of numerical electrons in a phase bucket;\n",
    "        n_eta - number of numerical electrons in an energy distribution;\n",
    "\n",
    "        n_eta*n_theta - total number of numerical electrons;\n",
    "\n",
    "        d_theta>0 corresponds to A=dpsi/2 case\n",
    "        d_theta = 0.00138 corresponds to the MaRIE case\n",
    "        A = 0.00069 corresponds to the shot-noise power in the MaRIE case\n",
    "        \"\"\"\n",
    "\n",
    "        self.k0 = eta\n",
    "        self.psi = theta\n",
    "        self.dk0 = d_eta\n",
    "        self.dpsi = d_theta\n",
    "        self._A0 = A\n",
    "\n",
    "        self._npsi = n_theta  # 8 should be sufficient\n",
    "        self._nk = n_eta  # 3 should be sufficient\n",
    "        self.ne = self._npsi * self._nk  # total number of numerical particles\n",
    "\n",
    "        # quiet start implementation according to H Freund\n",
    "        # 1. the Gaussian Quadrature approach is used here for the phase\n",
    "        xpsi, wpsi = np.polynomial.legendre.leggauss(self._npsi)\n",
    "\n",
    "        wpsi = self._npsi * wpsi / 2.  # normalization\n",
    "        psi0 = self.psi + np.pi * xpsi  # quite start positions\n",
    "        psi0 -= self.dpsi * np.sin(psi0)  # shot-noise shift @ 1st Harmonic\n",
    "\n",
    "        # 2. the Gauss-Hermite quadrature generation is used for energy spread\n",
    "        xk, wk = np.polynomial.hermite.hermgauss(self._nk)\n",
    "        wk = self._nk * wk / np.sqrt(np.pi)  # normalization\n",
    "        k0 = self.k0 + np.sqrt(2) * self.dk0 * xk  # initial positions\n",
    "\n",
    "        # creating arrays of the particles and weights\n",
    "        psi0, k0 = np.meshgrid(psi0, k0)  # combining all numerical particles\n",
    "        self._theta0, self._eta0 = psi0.flatten(), k0.flatten()  # creating arrays\n",
    "        wpsi, wk = np.meshgrid(wpsi, wk)  # combinig weights of the particles\n",
    "        self.charge = (wpsi * wk).flatten()  # creating array of weights\n",
    "\n",
    "    def change_start_values(self, A0, theta0, eta0):\n",
    "        assert len(theta0) == self.ne\n",
    "        assert len(eta0) == self.ne\n",
    "        self._A0 = A0\n",
    "        self._theta0 = theta0\n",
    "        self._eta0 = eta0\n",
    "        print(\"Distribution is equally weighted now.\")\n",
    "        self.charge = np.ones(self.ne)\n",
    "        \n",
    "\n",
    "    def model(self, tstop, dt=0.1):  # 0.1 step seems to be accurate enough\n",
    "        def rhs(t, y):\n",
    "            \"\"\"\n",
    "            The right-hand side of the 1D canonical FEL equations;\n",
    "            t - the current time;\n",
    "            y - array of [A, theta, eta]\n",
    "            \"\"\"\n",
    "            A = y[0]\n",
    "            theta = y[1:self.ne+1]\n",
    "            eta = y[self.ne+1:]\n",
    "            dA_dt = np.mean(self.charge*np.exp(-1j*theta))\n",
    "            dtheta_dt = eta\n",
    "            deta_dt = -2*np.real(A*np.exp(1j*theta))\n",
    "            return np.concatenate(([dA_dt],\n",
    "                                   dtheta_dt,\n",
    "                                   deta_dt))\n",
    "        self.tstop = tstop\n",
    "        self._sol = solve_ivp(rhs, [0, tstop],\n",
    "                              np.concatenate(([self._A0+0j],\n",
    "                                              self._theta0,\n",
    "                                              self._eta0)),\n",
    "                              max_step=dt,\n",
    "                              dense_output=True\n",
    "                             )\n",
    "\n",
    "    def A(self, t):\n",
    "        return self._sol.sol(t)[0]\n",
    "\n",
    "    def theta(self, t):\n",
    "        return np.real(self._sol.sol(t)[1:self.ne+1]+np.pi)%(2*np.pi)-np.pi\n",
    "        #return np.real(self._sol.sol(t)[1:self.ne+1])\n",
    "\n",
    "    def eta(self, t):\n",
    "        return np.real(self._sol.sol(t)[self.ne+1:])\n",
    "    \n",
    "    def show_evolution(self):\n",
    "        phase = np.unwrap(np.angle(self._sol.y[0]))\n",
    "        power = np.abs(self._sol.y[0])**2\n",
    "        t = self._sol.t\n",
    "        fig1 = plt.figure()\n",
    "\n",
    "        ax1L = plt.subplot(111)  # creates an active axes object\n",
    "        ax1L.set_xlabel(r'Dimensionless time, $\\tau$')\n",
    "\n",
    "        plt.axis([0, self.tstop, np.min(phase), np.max(phase)])  # sets limits on an active object\n",
    "        ax1L.set_ylabel('Phase', color='b')\n",
    "        for tl in ax1L.get_yticklabels():\n",
    "            tl.set_color('b')\n",
    "\n",
    "        ax1R = ax1L.twinx()  # adds a twin y axis using same x\n",
    "\n",
    "        plt.axis([0, self.tstop, 0, np.max(power)])  # sets limits on an active object\n",
    "        ax1R.set_ylabel(r'Dimensionless power, $|A|^2$', color='r')\n",
    "        for tl in ax1R.get_yticklabels():\n",
    "            tl.set_color('r')\n",
    "\n",
    "        line1, = ax1L.plot([], [], 'b')  # creates blue line on left axis\n",
    "        line2, = ax1R.plot([], [], 'r')  # creates red line on right axis\n",
    "        line1.set_data(t, phase)\n",
    "        line2.set_data(t, power)\n",
    "\n",
    "        plt.show()\n",
    "        \n",
    "    def show_instance(self, t):\n",
    "        assert 0<=t<=self.tstop\n",
    "        #  Let us plot phase space and separatrix using scatter plot function\n",
    "        fig2 = plt.figure()\n",
    "        ax2L = plt.subplot(111)  # creates an active axes object below first\n",
    "        ax2L.set_xlabel(r'Ponderomotive phase, $\\theta_n$')\n",
    "\n",
    "        ax2L.axis([-np.pi, np.pi, -4, 3])  # limits set\n",
    "        ax2L.set_ylabel('Electron\\'s detuning, $\\eta_n$', color='b')\n",
    "        for tl in ax2L.get_yticklabels():\n",
    "            tl.set_color('b')\n",
    "        ax2L.scatter(self.theta(t), self.eta(t), 20*laser.charge, marker=\".\", color='b')\n",
    "\n",
    "        ax2R = ax2L.twinx()  # adds a twin y axis using same x\n",
    "        ax2R.set_ylim([-4, 3])  # limits set\n",
    "\n",
    "        ax2R.set_ylabel(r'Separatrix', color='r')\n",
    "        for tl in ax2R.get_yticklabels():\n",
    "            tl.set_color('r')\n",
    "\n",
    "        x = np.linspace(-np.pi, np.pi, 500)\n",
    "        ax2R.plot(x,\n",
    "                 -2*np.sqrt(np.abs(np.imag(self.A(t)*np.exp(1j*x)))),\n",
    "                 'r--', linewidth=2.0)\n",
    "        ax2R.plot(x,\n",
    "                 2*np.sqrt(np.abs(np.imag(self.A(t)*np.exp(1j*x)))),\n",
    "                 'r--', linewidth=2.0)\n",
    "        plt.show()\n",
    "\n",
    "        \n",
    "\n",
    "if __name__ == '__main__':\n",
    "    tstop = 4*np.pi\n",
    "    laser = XFEL(d_eta=0.1)\n",
    "    laser.model(tstop)\n",
    "    laser.show_evolution()\n",
    "    laser.show_instance(9.5)"
   ]
  },
  {
   "cell_type": "code",
   "execution_count": 2,
   "metadata": {
    "ExecuteTime": {
     "end_time": "2021-01-08T04:45:52.830371Z",
     "start_time": "2021-01-08T04:45:52.503681Z"
    }
   },
   "outputs": [
    {
     "data": {
      "application/vnd.jupyter.widget-view+json": {
       "model_id": "85d53f3aa8544d19950568c776035734",
       "version_major": 2,
       "version_minor": 0
      },
      "text/plain": [
       "interactive(children=(Play(value=0, description='t', max=125), Output()), _dom_classes=('widget-interact',))"
      ]
     },
     "metadata": {},
     "output_type": "display_data"
    }
   ],
   "source": [
    "from ipywidgets import interactive, FloatSlider, Play\n",
    "\n",
    "dt = 0.1\n",
    "def f(t):\n",
    "    laser.show_instance(dt*t)\n",
    "\n",
    "interactive(f, t=Play(min=0, max=tstop/dt))"
   ]
  },
  {
   "cell_type": "code",
   "execution_count": 3,
   "metadata": {
    "ExecuteTime": {
     "end_time": "2021-01-08T04:45:53.154745Z",
     "start_time": "2021-01-08T04:45:52.832731Z"
    }
   },
   "outputs": [
    {
     "data": {
      "application/vnd.jupyter.widget-view+json": {
       "model_id": "f4886e8b52364e77b3bdc5699ed2be82",
       "version_major": 2,
       "version_minor": 0
      },
      "text/plain": [
       "interactive(children=(FloatSlider(value=2.0, description='t', max=12.566370614359172), Output()), _dom_classes…"
      ]
     },
     "metadata": {},
     "output_type": "display_data"
    }
   ],
   "source": [
    "def f1(t):\n",
    "    laser.show_instance(t)\n",
    "\n",
    "interactive(f1, t=FloatSlider(min=0, max=tstop, step=dt, value=2.0))"
   ]
  },
  {
   "cell_type": "code",
   "execution_count": null,
   "metadata": {},
   "outputs": [],
   "source": []
  }
 ],
 "metadata": {
  "kernelspec": {
   "display_name": "Python 3",
   "language": "python",
   "name": "py3"
  },
  "language_info": {
   "codemirror_mode": {
    "name": "ipython",
    "version": 3
   },
   "file_extension": ".py",
   "mimetype": "text/x-python",
   "name": "python",
   "nbconvert_exporter": "python",
   "pygments_lexer": "ipython3",
   "version": "3.7.2"
  },
  "toc": {
   "base_numbering": 1,
   "nav_menu": {},
   "number_sections": true,
   "sideBar": true,
   "skip_h1_title": false,
   "title_cell": "Table of Contents",
   "title_sidebar": "Contents",
   "toc_cell": false,
   "toc_position": {},
   "toc_section_display": true,
   "toc_window_display": false
  }
 },
 "nbformat": 4,
 "nbformat_minor": 4
}
