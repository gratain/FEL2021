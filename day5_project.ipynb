{
 "cells": [
  {
   "cell_type": "markdown",
   "id": "apparent-hunger",
   "metadata": {},
   "source": [
    "![alt text](images/uspas.png)\n",
    "# VUV and X-ray Free Electron Lasers\n",
    "# Project instructions\n",
    "\n",
    "\n",
    "The Genesis manual can be found here: http://genesis.web.psi.ch/download.html   \n",
    "##### Instructors: D. Nguyen, P. Anisimov, N. Neveu\n",
    "##### Teaching Assistant: Y.S. Li\n",
    "----------"
   ]
  },
  {
   "cell_type": "markdown",
   "id": "physical-olive",
   "metadata": {},
   "source": [
    "# 1. List your teammates here: "
   ]
  },
  {
   "cell_type": "code",
   "execution_count": null,
   "id": "coral-nicaragua",
   "metadata": {},
   "outputs": [],
   "source": []
  },
  {
   "cell_type": "markdown",
   "id": "guided-pharmacy",
   "metadata": {},
   "source": [
    "# 2. Discuss the machines shown here with your teamates. "
   ]
  },
  {
   "cell_type": "markdown",
   "id": "banner-think",
   "metadata": {},
   "source": [
    "| Parameter               | Marie    | LCLS   |  Deep UV |\n",
    "| :---:                   | :----:   |   :---:|   :---:  |\n",
    "| $\\lambda_u$  (m)        | 1.86e-2  | 3e-2   |  2.6e-2  |\n",
    "| $\\lambda_r$  (m)        | 2.934e-11| 1.5088e-10| 1.35e-8 |\n",
    "| Energy (eV)             |  12e9    | 14e9   |  1e9  |\n",
    "| Relative energy spread  | 1.5e-4   | 1e-4   |  1e-3 |\n",
    "| Beta                    | 15       | 18     |  12   |\n",
    "| max current             | 3e3      | 3e3    |  1e3  |\n",
    "|Emittance (m-rad)        | 0.2e-6   | 0.4e-6 |  0.4e-6 |          \n",
    "\n",
    "\n"
   ]
  },
  {
   "cell_type": "markdown",
   "id": "northern-peninsula",
   "metadata": {},
   "source": [
    "# 3. Give us a list of three machine options for your project. \n",
    "You can choose from the machines in #2, or another of your choosing.   \n",
    "List your preference in order 1-3, with #1 being your preferred project.  "
   ]
  },
  {
   "cell_type": "markdown",
   "id": "competent-possibility",
   "metadata": {},
   "source": []
  },
  {
   "cell_type": "markdown",
   "id": "absolute-sixth",
   "metadata": {},
   "source": [
    "# 4. Project description.\n",
    "\n",
    "You are free to shape your project to fit your interests.   \n",
    "There are no limits on what you are allowed to change in the machine.  \n",
    "(This is a bit unrealistic, but not an issue here.)\n",
    "\n",
    "Some suggestions/guidance for project components follows. \n",
    "\n",
    "Improve or study one or more of the following:\n",
    "- peak power\n",
    "- bandwidth\n",
    "- photon count\n",
    "- tapering \n",
    "- scaled FODO lattice\n",
    "- current profile impact on performance\n",
    "- off axis beam impact on performance"
   ]
  },
  {
   "cell_type": "markdown",
   "id": "authentic-treatment",
   "metadata": {},
   "source": [
    "These may require, but is not limited to:\n",
    "\n",
    "- beam size studies/scans and matching \n",
    "- $\\lambda_r$ studies/scans\n",
    "- Adjustment of drift spacing\n",
    "- Energy / energy spread studies\n",
    "- Convergence study (number of particles, grid, etc)\n",
    "\n",
    "\n"
   ]
  },
  {
   "cell_type": "markdown",
   "id": "emotional-insured",
   "metadata": {},
   "source": [
    "Discuss with your teamates and write a few sentences or bulleted list detailing what you plan to do in your project.   \n",
    "We will give you feedback on this. "
   ]
  },
  {
   "cell_type": "markdown",
   "id": "valuable-expense",
   "metadata": {},
   "source": []
  }
 ],
 "metadata": {
  "kernelspec": {
   "display_name": "Python 3",
   "language": "python",
   "name": "py3"
  },
  "language_info": {
   "codemirror_mode": {
    "name": "ipython",
    "version": 3
   },
   "file_extension": ".py",
   "mimetype": "text/x-python",
   "name": "python",
   "nbconvert_exporter": "python",
   "pygments_lexer": "ipython3",
   "version": "3.7.2"
  }
 },
 "nbformat": 4,
 "nbformat_minor": 5
}
