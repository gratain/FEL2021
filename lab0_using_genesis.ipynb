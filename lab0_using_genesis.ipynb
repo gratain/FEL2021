{
 "cells": [
  {
   "cell_type": "markdown",
   "metadata": {},
   "source": [
    "![alt text](images/uspas.png)\n",
    "# VUV and X-ray Free Electron Lasers\n",
    "# Lab Day 1: Running Genesis with lume-genesis\n",
    "#### In this session, we will use lume-genesis to do the following:\n",
    "- load input files\n",
    "- change input files\n",
    "- run a genesis simulation\n",
    "- load output results\n",
    "- plot output results\n",
    "\n",
    "The Genesis manual can be found here: http://genesis.web.psi.ch/download.html   \n",
    "Parts of this notebook taken from lume-genesis examples here: https://github.com/slaclab/lume-genesis/tree/master/examples\n",
    "##### Authors: N. Neveu, P. Anisimov, D. Nguyen, Y.S. Li\n",
    "----------"
   ]
  },
  {
   "cell_type": "markdown",
   "metadata": {},
   "source": [
    "# 1. Import functions we will be using\n",
    "\n"
   ]
  },
  {
   "cell_type": "code",
   "execution_count": null,
   "metadata": {},
   "outputs": [],
   "source": [
    "import os, h5py\n",
    "import matplotlib.pyplot as plt\n",
    "import numpy as np\n",
    "\n",
    "# from lume-genesis\n",
    "from genesis import Genesis\n",
    "from genesis import parsers, lattice\n",
    "from genesis.parsers import parse_beam_file\n",
    "from genesis.writers import write_beam_file"
   ]
  },
  {
   "cell_type": "markdown",
   "metadata": {},
   "source": [
    "----"
   ]
  },
  {
   "cell_type": "markdown",
   "metadata": {},
   "source": [
    "# 2. Load a lattice file\n",
    "\n",
    "Genesis lattice files consist of components in the beamline (from manual):\n",
    "\n",
    "- AW - Main magnetic field (undulator)\n",
    "- AD - Drift section\n",
    "- QF - Quadrupole strength\n",
    "- QX - Quadrupole offset in x\n",
    "- QY - Quadrupole offset in y\n",
    "- SL - Solenoid strength\n",
    "- CX - Corrector strength in x\n",
    "- CY - Corrector strength in y"
   ]
  },
  {
   "cell_type": "code",
   "execution_count": null,
   "metadata": {},
   "outputs": [],
   "source": [
    "# Read genesis lattice file as elements and parameters\n",
    "genesis_lat = 'examples/lcls_short.lat'\n",
    "lat = parsers.parse_genesis_lattice(genesis_lat)\n",
    "lat.keys()"
   ]
  },
  {
   "cell_type": "markdown",
   "metadata": {},
   "source": [
    "We have loaded two types of information: \n",
    "- eles  = elements\n",
    "- param = parameters \n",
    "\n",
    "Information included in the element descriptions: \n",
    "- strength = magnet strength\n",
    "- L = length of element\n",
    "- d = distance to previous element\n",
    "\n",
    "Run the next two commands to access and see the information stored in each key"
   ]
  },
  {
   "cell_type": "code",
   "execution_count": null,
   "metadata": {
    "scrolled": true
   },
   "outputs": [],
   "source": [
    "# You can index through elements like a normal dict: \n",
    "lat['eles'][:3]"
   ]
  },
  {
   "cell_type": "code",
   "execution_count": null,
   "metadata": {},
   "outputs": [],
   "source": [
    "lat['param']"
   ]
  },
  {
   "cell_type": "markdown",
   "metadata": {},
   "source": [
    "# 3. Run a simple genesis file"
   ]
  },
  {
   "cell_type": "code",
   "execution_count": null,
   "metadata": {},
   "outputs": [],
   "source": [
    "# lume-genesis will create and use a temp directory unless a working dir is specified.\n",
    "# I prefer to make a new run directory in the current working directory\n",
    "rundir = os.getcwd()+'/test_run' \n",
    "if not os.path.exists(rundir):\n",
    "    os.makedirs(rundir)"
   ]
  },
  {
   "cell_type": "code",
   "execution_count": null,
   "metadata": {},
   "outputs": [],
   "source": [
    "# Initialize the run, make genesis object with some template input file\n",
    "gen = Genesis('examples/lcls_short.in', verbose=True, workdir=rundir, use_tempdir=False)"
   ]
  },
  {
   "cell_type": "markdown",
   "metadata": {},
   "source": [
    "We can now look at what is in the input file and make changes. Note, for this run we need to reduce the number of slices so that the run can finish on a laptop. All values in G are parameters in the input file. Take a look at the information from the input file in the following cells:"
   ]
  },
  {
   "cell_type": "code",
   "execution_count": null,
   "metadata": {},
   "outputs": [],
   "source": [
    "# All input are fields from input file\n",
    "# if no value in input file template, default is filled in\n",
    "gen.input.keys()"
   ]
  },
  {
   "cell_type": "code",
   "execution_count": null,
   "metadata": {},
   "outputs": [],
   "source": [
    "# list of elements and parameters\n",
    "# s = end of elements, final positions\n",
    "# lume-genesis fills in empty spaces for overlap\n",
    "gen.input['lattice'].keys()"
   ]
  },
  {
   "cell_type": "code",
   "execution_count": null,
   "metadata": {},
   "outputs": [],
   "source": [
    "# These can also be called w/o key notation:\n",
    "gen.beam     # no beam is loaded yet (empty)\n",
    "gen.lattice  # gives same output as call in last cell\n",
    "gen.param.keys()\n",
    "\n",
    "# Pick a few parameters each, and find them in the manual.\n",
    "# Summarize what they are used for. "
   ]
  },
  {
   "cell_type": "markdown",
   "metadata": {},
   "source": [
    "Genesis can output many types of data. There are several flags for data output, as shown in next code blocks:\n",
    "\n",
    "- idump - wavefront output\n",
    "- idmpfld - \n",
    "- idmppar - \n",
    "- ippart - \n",
    "- ipradi - \n",
    "- SL - Solenoid strength\n",
    "- CX - Corrector strength in x\n",
    "- CY - Corrector strength in y"
   ]
  },
  {
   "cell_type": "code",
   "execution_count": null,
   "metadata": {},
   "outputs": [],
   "source": [
    "# Dump wavefront output\n",
    "# set to 0 for no wavefront output\n",
    "gen.param['idump'] = 1"
   ]
  },
  {
   "cell_type": "code",
   "execution_count": null,
   "metadata": {},
   "outputs": [],
   "source": [
    "# Simulation inputs can be changed before running the simulation\n",
    "\n",
    "# Change number of slices and set it to 256 in the next cell\n",
    "# G['nslice'] = 256\n",
    "\n",
    "# Here are some commonly used parameters: \n",
    "\n",
    "# # Turn on field output\n",
    "# G['idmpfld'] = 1\n",
    "\n",
    "# # Turn on particle output\n",
    "# G['idmppar'] = 1\n",
    "\n",
    "# Change number of particles\n",
    "# G['npart'] = 2048\n",
    "\n",
    "# # Turn on history\n",
    "# G['ippart'] = 10\n",
    "# G['ipradi'] = 0\n",
    "\n",
    "# Again, all of these keys come from the input file"
   ]
  },
  {
   "cell_type": "code",
   "execution_count": null,
   "metadata": {},
   "outputs": [],
   "source": [
    "# You can save the updated input file\n",
    "gen.write_input()"
   ]
  },
  {
   "cell_type": "markdown",
   "metadata": {},
   "source": [
    "# 4. Running sims and archiving the data\n",
    "\n",
    "To save on time, we'll load the data that was previously saved. Commands needed to run the simulation and archive the files are shown as comments here. Saving the data to an h5 file allows you to reload with lume-genesis easily, and only have to save one file. You can return to your data after closing jupyterlab, and don't need to leave the browser window open.\n",
    "\n",
    "Some notes on output files:  \n",
    "fld - not parsed here, field history file (can get huge)  \n",
    "par - can get very large if many slices  \n",
    "dlf (wavefront), dpa (phase space) are final field and particle files\n",
    "\n",
    "\n",
    "\n"
   ]
  },
  {
   "cell_type": "code",
   "execution_count": null,
   "metadata": {},
   "outputs": [],
   "source": [
    "# This command will run the genesis simulation \n",
    "# We're skipping this part for now\n",
    "# gen.binary_prefixes = ['mpirun', '-n', '10']\n",
    "# gen.run()"
   ]
  },
  {
   "cell_type": "code",
   "execution_count": null,
   "metadata": {},
   "outputs": [],
   "source": [
    "# G.output['run_info'] # gives info about run time and location\n",
    "# Example output: \n",
    "# {'start_time': 1608185282.456321,\n",
    "#  'run_script': '/Users/nneveu/Code/anaconda3/envs/lume/bin/genesis2 genesis.in',\n",
    "#  'run_time': 1231.4947772026062,\n",
    "#  'run_error': False}"
   ]
  },
  {
   "cell_type": "code",
   "execution_count": null,
   "metadata": {},
   "outputs": [],
   "source": [
    "# Archive data to h5 so that you can reload it later\n",
    "# gen.archive('lcls_test.h5')"
   ]
  },
  {
   "cell_type": "code",
   "execution_count": null,
   "metadata": {},
   "outputs": [],
   "source": [
    "# This will only work if 'idump' option is non-zero\n",
    "# G.write_wavefront() # save wavefront data to seperate h5 file"
   ]
  },
  {
   "cell_type": "markdown",
   "metadata": {},
   "source": [
    "# 5. Loading data from archive file & looking at output"
   ]
  },
  {
   "cell_type": "code",
   "execution_count": null,
   "metadata": {},
   "outputs": [],
   "source": [
    "gen.load_archive('examples/lcls_short.h5')\n",
    "# Output data is now saved in G object"
   ]
  },
  {
   "cell_type": "code",
   "execution_count": null,
   "metadata": {},
   "outputs": [],
   "source": [
    "gen.output.keys() # three categories of saved data"
   ]
  },
  {
   "cell_type": "code",
   "execution_count": null,
   "metadata": {},
   "outputs": [],
   "source": [
    "gen.output['run_info'] #information about simulation run time and location"
   ]
  },
  {
   "cell_type": "code",
   "execution_count": null,
   "metadata": {},
   "outputs": [],
   "source": [
    "gen.output['param'].keys() # input parameters to simulation\n",
    "# should be similar or same as input params\n",
    "# some numbers filled in during run, slight changes from input"
   ]
  },
  {
   "cell_type": "code",
   "execution_count": null,
   "metadata": {},
   "outputs": [],
   "source": [
    "# These are the available data types\n",
    "gen.output['data'].keys() # all the output data"
   ]
  },
  {
   "cell_type": "markdown",
   "metadata": {},
   "source": [
    "----"
   ]
  },
  {
   "cell_type": "markdown",
   "metadata": {},
   "source": [
    "# 6. Plotting results"
   ]
  },
  {
   "cell_type": "code",
   "execution_count": null,
   "metadata": {},
   "outputs": [],
   "source": [
    "# Get z values in sim\n",
    "zlist = G.output['data']['z'] # 1D array\n",
    "zlist.shape"
   ]
  },
  {
   "cell_type": "code",
   "execution_count": null,
   "metadata": {},
   "outputs": [],
   "source": [
    "# Get power. This is a 2d array of: slice, z\n",
    "power = G.output['data']['power']\n",
    "power.shape"
   ]
  },
  {
   "cell_type": "code",
   "execution_count": null,
   "metadata": {},
   "outputs": [],
   "source": [
    "plt.plot(zlist,np.log(power[0]))\n",
    "plt.xlabel('z along bunch?')\n",
    "plt.ylabel('Power (W)')\n",
    "plt.show()"
   ]
  },
  {
   "cell_type": "code",
   "execution_count": null,
   "metadata": {},
   "outputs": [],
   "source": [
    "wf  = h5py.File('examples/lcls_short_wavefront.h5', 'r')\n",
    "dfl = wf['data/000000/meshes/electricField/x']\n",
    "wf['data/000000/meshes/electricField/x']"
   ]
  },
  {
   "cell_type": "code",
   "execution_count": null,
   "metadata": {},
   "outputs": [],
   "source": [
    "# Get parameters from .out file\n",
    "params = G.output['param']\n",
    "my_ncar = params['ncar']\n",
    "my_dgrid = params['dgrid']\n",
    "\n",
    "my_nz = 1\n",
    "\n",
    "# Field phase at end, slice 0\n",
    "def plot_field(dat, dgrid):\n",
    "    ndat = np.angle(dat)\n",
    "    plt.imshow(ndat, extent = [1000*dgrid*i for i in [-1,1,-1,1]])\n",
    "    plt.xlabel('x (mm)')\n",
    "    plt.ylabel('y (mm)')\n",
    "    plt.show()\n",
    "    \n",
    "plot_field(dfl[:, :, 0], my_dgrid )"
   ]
  },
  {
   "cell_type": "code",
   "execution_count": null,
   "metadata": {},
   "outputs": [],
   "source": [
    "plot_field(dfl[:, :, 100], my_dgrid )"
   ]
  },
  {
   "cell_type": "code",
   "execution_count": null,
   "metadata": {},
   "outputs": [],
   "source": [
    "plot_field(dfl[:, :, 200], my_dgrid )"
   ]
  },
  {
   "cell_type": "code",
   "execution_count": null,
   "metadata": {},
   "outputs": [],
   "source": [
    "plot_field(dfl[:, :, 300], my_dgrid )"
   ]
  },
  {
   "cell_type": "code",
   "execution_count": null,
   "metadata": {},
   "outputs": [],
   "source": [
    "plot_field(dfl[:, :, 650], my_dgrid )"
   ]
  },
  {
   "cell_type": "markdown",
   "metadata": {},
   "source": [
    "----"
   ]
  },
  {
   "cell_type": "markdown",
   "metadata": {},
   "source": [
    "----"
   ]
  }
 ],
 "metadata": {
  "kernelspec": {
   "display_name": "Python 3",
   "language": "python",
   "name": "python3"
  },
  "language_info": {
   "codemirror_mode": {
    "name": "ipython",
    "version": 3
   },
   "file_extension": ".py",
   "mimetype": "text/x-python",
   "name": "python",
   "nbconvert_exporter": "python",
   "pygments_lexer": "ipython3",
   "version": "3.7.9"
  }
 },
 "nbformat": 4,
 "nbformat_minor": 4
}
