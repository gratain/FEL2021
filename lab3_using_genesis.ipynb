{
 "cells": [
  {
   "cell_type": "markdown",
   "metadata": {},
   "source": [
    "![alt text](images/uspas.png)\n",
    "# VUV and X-ray Free Electron Lasers\n",
    "# Lab Day 3: Running Genesis with lume-genesis\n",
    "#### In this session, we will use lume-genesis to do the following:\n",
    "- load input files\n",
    "- change input files\n",
    "- run a genesis simulation\n",
    "- load output results\n",
    "- plot output results\n",
    "\n",
    "The Genesis manual can be found here: http://genesis.web.psi.ch/download.html   \n",
    "Parts of this notebook taken from lume-genesis examples here: https://github.com/slaclab/lume-genesis/tree/master/examples\n",
    "##### Authors: N. Neveu, P. Anisimov, D. Nguyen, Y.S. Li\n",
    "----------"
   ]
  },
  {
   "cell_type": "markdown",
   "metadata": {},
   "source": [
    "# 1. Import functions we will be using\n",
    "\n"
   ]
  },
  {
   "cell_type": "code",
   "execution_count": null,
   "metadata": {},
   "outputs": [],
   "source": [
    "import os\n",
    "from bokeh.plotting import figure, output_file, show, output_notebook\n",
    "\n",
    "# from lume-genesis\n",
    "from genesis import Genesis\n",
    "from genesis import parsers, lattice\n",
    "from genesis.parsers import parse_beam_file\n",
    "from genesis.writers import write_beam_file"
   ]
  },
  {
   "cell_type": "markdown",
   "metadata": {},
   "source": [
    "----"
   ]
  },
  {
   "cell_type": "markdown",
   "metadata": {},
   "source": [
    "# 2. Load a lattice file\n",
    "\n",
    "Genesis lattice files consist of components in the beamline (from manual):\n",
    "\n",
    "- AW - Main magnetic field (undulator)\n",
    "- AD - Drift section\n",
    "- QF - Quadrupole strength\n",
    "- QX - Quadrupole offset in x\n",
    "- QY - Quadrupole offset in y\n",
    "- SL - Solenoid strength\n",
    "- CX - Corrector strength in x\n",
    "- CY - Corrector strength in y"
   ]
  },
  {
   "cell_type": "code",
   "execution_count": null,
   "metadata": {},
   "outputs": [],
   "source": [
    "# Read genesis lattice file as elements and parameters\n",
    "genesis_lat = 'examples/lcls_short.lat'\n",
    "lat = parsers.parse_genesis_lattice(genesis_lat)\n",
    "lat.keys()"
   ]
  },
  {
   "cell_type": "markdown",
   "metadata": {},
   "source": [
    "We have loaded two types of information: \n",
    "- eles  = elements\n",
    "- param = parameters \n",
    "\n",
    "Information included in the element descriptions: \n",
    "- strength = magnet strength\n",
    "- L = length of element\n",
    "- d = distance to previous element\n",
    "\n",
    "Run the next two commands to access and see the information stored in each key"
   ]
  },
  {
   "cell_type": "code",
   "execution_count": null,
   "metadata": {},
   "outputs": [],
   "source": [
    "lat['eles']"
   ]
  },
  {
   "cell_type": "code",
   "execution_count": null,
   "metadata": {},
   "outputs": [],
   "source": [
    "lat['param']"
   ]
  },
  {
   "cell_type": "code",
   "execution_count": null,
   "metadata": {
    "scrolled": true
   },
   "outputs": [],
   "source": [
    "# You can index through elements like a normal dict: \n",
    "lat['eles'][:3]"
   ]
  },
  {
   "cell_type": "markdown",
   "metadata": {},
   "source": [
    "# 3. Run a simple genesis file"
   ]
  },
  {
   "cell_type": "code",
   "execution_count": null,
   "metadata": {},
   "outputs": [],
   "source": [
    "# lume-genesis will create and use a temp directory unless a working dir is specified.\n",
    "rundir = os.getcwd()+'/test_run' \n",
    "if not os.path.exists(rundir):\n",
    "    os.makedirs(rundir)"
   ]
  },
  {
   "cell_type": "code",
   "execution_count": null,
   "metadata": {},
   "outputs": [],
   "source": [
    "# Initialize the run, make genesis object with some template input file\n",
    "G = Genesis('examples/lcls_short.in', verbose=True, workdir=rundir, use_tempdir=False)"
   ]
  },
  {
   "cell_type": "markdown",
   "metadata": {},
   "source": [
    "We can now look at what is in the input file and make changes.   \n",
    "All values in G are parameters in the input file.   \n",
    "Take a look at the information from the input file in the following cells:"
   ]
  },
  {
   "cell_type": "code",
   "execution_count": null,
   "metadata": {},
   "outputs": [],
   "source": [
    "# All input are fields from input file\n",
    "# if no value in input file template, default is filled in\n",
    "G.input.keys()"
   ]
  },
  {
   "cell_type": "code",
   "execution_count": null,
   "metadata": {},
   "outputs": [],
   "source": [
    "# list of elements and parameters\n",
    "# s = end of elements, final positions\n",
    "# lume-genesis fills in empty spaces for overlap\n",
    "G.input['lattice']"
   ]
  },
  {
   "cell_type": "code",
   "execution_count": null,
   "metadata": {},
   "outputs": [],
   "source": [
    "# These can also be called w/o key notation:\n",
    "G.beam     # no beam is loaded yet (empty)\n",
    "G.lattice  # gives same output as call in last cell\n",
    "G.param\n",
    "\n",
    "# Pick a few parameters each, and find them in the manual.\n",
    "# Summarize what they are used for. "
   ]
  },
  {
   "cell_type": "code",
   "execution_count": null,
   "metadata": {},
   "outputs": [],
   "source": [
    "# Simulation inputs can be changed before running the simulation\n",
    "G['nslice'] = 100\n",
    "\n",
    "# # Turn on field output\n",
    "# G['idmpfld'] = 1\n",
    "# # Turn on particle output\n",
    "# G['idmppar'] = 1\n",
    "# G['npart'] = 2048\n",
    "# # Turn on history\n",
    "# G['ippart'] = 10\n",
    "# G['ipradi'] = 0\n",
    "# # Again, these keys come from the input file"
   ]
  },
  {
   "cell_type": "code",
   "execution_count": null,
   "metadata": {},
   "outputs": [],
   "source": [
    "# You can save the updated input file\n",
    "G.write_input()"
   ]
  },
  {
   "cell_type": "code",
   "execution_count": null,
   "metadata": {},
   "outputs": [],
   "source": [
    "# Run genesis with default lattice \n",
    "G.run()"
   ]
  },
  {
   "cell_type": "code",
   "execution_count": null,
   "metadata": {},
   "outputs": [],
   "source": [
    "# Output data is now saved in G object\n",
    "G.output.keys()"
   ]
  },
  {
   "cell_type": "code",
   "execution_count": null,
   "metadata": {},
   "outputs": [],
   "source": [
    "G.output['run_info']"
   ]
  },
  {
   "cell_type": "code",
   "execution_count": null,
   "metadata": {},
   "outputs": [],
   "source": [
    "# G.output['param'] # should be similar or same as input params\n",
    "# some numbers filled in during run, slight changes from input"
   ]
  },
  {
   "cell_type": "code",
   "execution_count": null,
   "metadata": {},
   "outputs": [],
   "source": [
    "# G.output['data'] # all the output data"
   ]
  },
  {
   "cell_type": "code",
   "execution_count": null,
   "metadata": {},
   "outputs": [],
   "source": [
    "# G.write_wavefront()"
   ]
  },
  {
   "cell_type": "code",
   "execution_count": null,
   "metadata": {},
   "outputs": [],
   "source": [
    "# These are the available data\n",
    "G.output['data'].keys()\n",
    "for key, val in G.output['data'].items():\n",
    "    print(key, val.shape)\n",
    "\n",
    "# fld - not parsed here, field history file (can get huge)\n",
    "# par - can get very large if many slices\n",
    "# dlf (wavefront), dpa (phase space) are final field and particle files"
   ]
  },
  {
   "cell_type": "markdown",
   "metadata": {},
   "source": [
    "----"
   ]
  },
  {
   "cell_type": "markdown",
   "metadata": {},
   "source": [
    "# 4. Archive the data\n",
    "\n",
    "Save your data to an h5 file, that way you can reload with lume-genesis easily, and only have to save one file.  \n",
    "You can return to your data after closing jupyterlab, and don't need to leave the browser window open."
   ]
  },
  {
   "cell_type": "code",
   "execution_count": null,
   "metadata": {},
   "outputs": [],
   "source": [
    "# afile = G.archive()\n",
    "# # if this is taking a long time, maybe data is too big"
   ]
  },
  {
   "cell_type": "code",
   "execution_count": null,
   "metadata": {},
   "outputs": [],
   "source": [
    "# G2 = Genesis()\n",
    "# G2.load_archive(afile)\n",
    "\n",
    "# # Check that all output data are the same\n",
    "# for k in G.output['data']:\n",
    "#     print(k, np.all(G.output['data'][k]==G2.output['data'][k]))"
   ]
  },
  {
   "cell_type": "markdown",
   "metadata": {},
   "source": [
    "----"
   ]
  },
  {
   "cell_type": "markdown",
   "metadata": {},
   "source": [
    "# 5. Plot the simulation data"
   ]
  },
  {
   "cell_type": "code",
   "execution_count": null,
   "metadata": {},
   "outputs": [],
   "source": [
    "# Get z values in sim\n",
    "zlist = G.output['data']['z'] # 1D array\n",
    "zlist.shape"
   ]
  },
  {
   "cell_type": "code",
   "execution_count": null,
   "metadata": {},
   "outputs": [],
   "source": [
    "# Get power. This is a 2d array of: slice, z\n",
    "power = G.output['data']['power']\n",
    "power.shape"
   ]
  },
  {
   "cell_type": "code",
   "execution_count": null,
   "metadata": {},
   "outputs": [],
   "source": [
    "# Using bokeh plotting for interactive plot\n",
    "output_notebook(verbose=False, hide_banner=True)\n",
    "p = figure(plot_width=800, plot_height=400, y_axis_type='log')\n",
    "\n",
    "# add a line renderer\n",
    "p.line(zlist, power[0], line_width=2)\n",
    "\n",
    "p.xaxis.axis_label = 'Z (M)'\n",
    "p.yaxis.axis_label = 'power (W)'\n",
    "\n",
    "show(p)"
   ]
  },
  {
   "cell_type": "code",
   "execution_count": null,
   "metadata": {},
   "outputs": [],
   "source": []
  },
  {
   "cell_type": "markdown",
   "metadata": {},
   "source": [
    "# X. Loading input beam distributions"
   ]
  },
  {
   "cell_type": "markdown",
   "metadata": {},
   "source": [
    "----"
   ]
  }
 ],
 "metadata": {
  "kernelspec": {
   "display_name": "Python 3",
   "language": "python",
   "name": "python3"
  },
  "language_info": {
   "codemirror_mode": {
    "name": "ipython",
    "version": 3
   },
   "file_extension": ".py",
   "mimetype": "text/x-python",
   "name": "python",
   "nbconvert_exporter": "python",
   "pygments_lexer": "ipython3",
   "version": "3.7.9"
  }
 },
 "nbformat": 4,
 "nbformat_minor": 4
}
