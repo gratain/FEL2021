{
 "cells": [
  {
   "cell_type": "markdown",
   "metadata": {},
   "source": [
    "![alt text](images/uspas.png)\n",
    "# VUV and X-ray Free Electron Lasers\n",
    "# Running Genesis with lume-genesis\n",
    "#### In this session, we will use lume-genesis to do the following:\n",
    "- make and edit a genesis template file\n",
    "- run a genesis simulation\n",
    "- scan several inputs/outputs\n",
    "\n",
    "Some comments and parameter descriptions taken from the Genesis manual: http://genesis.web.psi.ch/download.html   \n",
    "\n",
    "##### Instructors: D. Nguyen, P. Anisimov, N. Neveu\n",
    "##### Teaching Assistant: Y.S. Li\n",
    "----------"
   ]
  },
  {
   "cell_type": "markdown",
   "metadata": {},
   "source": [
    "# 1. Create and run the default genesis template file "
   ]
  },
  {
   "cell_type": "code",
   "execution_count": null,
   "metadata": {},
   "outputs": [],
   "source": [
    "!which genesis2"
   ]
  },
  {
   "cell_type": "code",
   "execution_count": null,
   "metadata": {},
   "outputs": [],
   "source": [
    "!which genesis2-mpi"
   ]
  },
  {
   "cell_type": "code",
   "execution_count": null,
   "metadata": {},
   "outputs": [],
   "source": [
    "!genesis2"
   ]
  },
  {
   "cell_type": "code",
   "execution_count": null,
   "metadata": {},
   "outputs": [],
   "source": [
    "!genesis2 template.in"
   ]
  },
  {
   "cell_type": "code",
   "execution_count": null,
   "metadata": {},
   "outputs": [],
   "source": [
    "import numpy as np\n",
    "%matplotlib inline\n",
    "%config InlineBackend.figure_format = 'retina'\n",
    "import matplotlib.pyplot as plt\n",
    "plt.style.use(r'PaperDoubleFig.mplstyle')"
   ]
  },
  {
   "cell_type": "code",
   "execution_count": null,
   "metadata": {},
   "outputs": [],
   "source": [
    "from genesis import Genesis\n",
    "gen = Genesis('template.in')\n",
    "gen.run()"
   ]
  },
  {
   "cell_type": "markdown",
   "metadata": {},
   "source": [
    "By default, lume-genesis runs the simulation in a 'tmp' directory.   \n",
    "This area is also called 'scratch' on some systems.  \n",
    "Files in these types of directories are ususally volatile.   \n",
    "i.e. they are not persistent after you log out/in again, or after a designated amount of time."
   ]
  },
  {
   "cell_type": "code",
   "execution_count": null,
   "metadata": {},
   "outputs": [],
   "source": [
    "gen.input_file"
   ]
  },
  {
   "cell_type": "code",
   "execution_count": null,
   "metadata": {},
   "outputs": [],
   "source": [
    "# power output from the genesis template file\n",
    "plt.plot(gen.output['data']['z'], gen.output['data']['power'][0]/1e9);\n",
    "plt.xlabel('Undulator distance, m'); plt.ylabel('Power, GW');"
   ]
  },
  {
   "cell_type": "markdown",
   "metadata": {},
   "source": [
    "# 2. Edit the file and re-run"
   ]
  },
  {
   "cell_type": "markdown",
   "metadata": {},
   "source": [
    "Next we will run using mpi, and multiple cores: "
   ]
  },
  {
   "cell_type": "code",
   "execution_count": null,
   "metadata": {},
   "outputs": [],
   "source": [
    "genesis_bin='/home/vagrant/.local/bin/genesis2-mpi'\n",
    "gen = Genesis('template.in', genesis_bin=genesis_bin)\n",
    "gen.binary_prefixes = ['mpirun', '-n', '4']"
   ]
  },
  {
   "cell_type": "markdown",
   "metadata": {},
   "source": [
    "Change input file parameters & run again.  \n",
    "This will take about 5-6 seconds: "
   ]
  },
  {
   "cell_type": "code",
   "execution_count": null,
   "metadata": {},
   "outputs": [],
   "source": [
    "# undulator\n",
    "gen['xlamd'] = 0.0186  # undulator wavelength, m\n",
    "gen['aw0'] = gen['awd'] = 0.86  # rms undulator parameter\n",
    "gen['nwig'] = int(80/gen['xlamd'])  # undulator length in xlamd\n",
    "\n",
    "# focusing\n",
    "gen['f1st'] = 5  # half F length in FODO measured in xlamd\n",
    "gen['fl'] = 10   # full F length in FODO measured in xlamd\n",
    "gen['quadf'] = 30  # focusing in x quadrupole gradient, T/m\n",
    "gen['dl'] = 10   # full D length in FODO measured in xlamd\n",
    "gen['quadd'] = 30  # defocusing in x quadrupole gradient, T/m\n",
    "gen['drl'] = 100 # full O length in FODO measured in xlamd\n",
    "\n",
    "# electron beam\n",
    "gen['curpeak'] = 3000  # current, A\n",
    "gen['curlen'] = 0  # negative or 0 for flattop; positive for Gaussian\n",
    "gen['gamma0'] = 12e9/0.511e6  # beam energy, mc^2\n",
    "gen['delgam'] = 1.5e-4*gen['gamma0']  # relative energy spread\n",
    "gen['rxbeam'] = 1.2038964357474105e-05  # rms size, m\n",
    "gen['rybeam'] = 1.042244688359981e-05  # rms size, m\n",
    "gen['emitx'] = gen['emity'] = 0.2e-6  # normalized emittance, m rad\n",
    "gen['npart'] = 2**10  # number of macroparticles in a bucket\n",
    "\n",
    "# radiation at resonant condition\n",
    "gen['xlamds'] = gen['xlamd']*(1+gen['aw0']**2)/(2*gen['gamma0']**2)\n",
    "gen['prad0'] = 1e4  # shot noise power, W\n",
    "gen['zrayl'] = 24  # Rayleigh length, m\n",
    "gen['zwaist'] = 0  # focul point location, m\n",
    "\n",
    "# mesh\n",
    "gen['ncar'] = 151  # number of mesh points, ODD is advised\n",
    "gen['dgrid'] = 100e-6  # [-dgrid, dgrid], m\n",
    "\n",
    "# simulation\n",
    "gen['delz'] = 1  # integration step measured in xlamd\n",
    "gen.run()\n",
    "gen.output['run_info']"
   ]
  },
  {
   "cell_type": "code",
   "execution_count": null,
   "metadata": {},
   "outputs": [],
   "source": [
    "gen.output['data'].keys()"
   ]
  },
  {
   "cell_type": "code",
   "execution_count": null,
   "metadata": {},
   "outputs": [],
   "source": [
    "plt.plot(gen.output['data']['z'], gen.output['data']['power'][0]/1e9);\n",
    "plt.xlabel('Undulator distance, m'); plt.ylabel('Power, GW');"
   ]
  },
  {
   "cell_type": "code",
   "execution_count": null,
   "metadata": {},
   "outputs": [],
   "source": [
    "plt.plot(gen.output['data']['z'], 1e6*gen.output['data']['xrms'][0], 'b')\n",
    "plt.plot(gen.output['data']['z'], 1e6*gen.output['data']['yrms'][0], 'g')\n",
    "plt.ylabel(r'$\\sigma,\\ \\mu m$')\n",
    "plt.xlabel(r'Undulator distance, m')\n",
    "plt.show()"
   ]
  },
  {
   "cell_type": "markdown",
   "metadata": {},
   "source": [
    "This scan should take ~30 seconds:"
   ]
  },
  {
   "cell_type": "code",
   "execution_count": null,
   "metadata": {},
   "outputs": [],
   "source": [
    "gen['iscan'] = 12 # Scanning rms beam size RYBEAM\n",
    "gen['nscan'] = 16  # default = 3\n",
    "gen['svar'] = 0.025 # Defines the scan range of the selected scan parameter. \n",
    "# The parameter is varied between (1-SVAR) and (1+SVAR) of its initial value. \n",
    "# One exception is the scan over ISEED where the random number generator is not reinitialized.\n",
    "gen.run()\n",
    "gen.output['run_info']"
   ]
  },
  {
   "cell_type": "code",
   "execution_count": null,
   "metadata": {},
   "outputs": [],
   "source": [
    "gen.output['data']['yrms'].shape"
   ]
  },
  {
   "cell_type": "markdown",
   "metadata": {},
   "source": [
    "All scan results plotted at once: "
   ]
  },
  {
   "cell_type": "code",
   "execution_count": null,
   "metadata": {},
   "outputs": [],
   "source": [
    "plt.plot(gen.output['data']['z'], 1e6*gen.output['data']['yrms'].T)\n",
    "plt.xlabel('Undulator distance, m')\n",
    "plt.ylabel(r'$\\sigma_y,\\ \\mu m$')\n",
    "plt.show()"
   ]
  },
  {
   "cell_type": "code",
   "execution_count": null,
   "metadata": {},
   "outputs": [],
   "source": [
    "plt.plot(1e6*gen.output['data']['current'], 1e6*np.std(gen.output['data']['yrms'], axis=1))\n",
    "plt.xlabel(r'$\\sigma_y(0),\\ \\mu m$')\n",
    "plt.ylabel(r'$std[\\sigma_y(z)],\\ \\mu m$')\n",
    "plt.show()"
   ]
  },
  {
   "cell_type": "markdown",
   "metadata": {},
   "source": [
    "Plotting the scan with the minimum std:"
   ]
  },
  {
   "cell_type": "code",
   "execution_count": null,
   "metadata": {},
   "outputs": [],
   "source": [
    "plt.plot(gen.output['data']['z'], 1e6*gen.output['data']['yrms'][np.argmin(np.std(gen.output['data']['yrms'], axis=1))])\n",
    "plt.ylabel(r'$\\sigma_y,\\ \\mu m$')\n",
    "plt.xlabel(r'Undulator distance, m')\n",
    "plt.show()"
   ]
  },
  {
   "cell_type": "markdown",
   "metadata": {},
   "source": [
    "Re-run the simulation with the min $sigma_y$:"
   ]
  },
  {
   "cell_type": "code",
   "execution_count": null,
   "metadata": {},
   "outputs": [],
   "source": [
    "rybeam = gen.output['data']['yrms'][np.argmin(np.std(gen.output['data']['yrms'], axis=1))][0]\n",
    "gen['rybeam'] = rybeam"
   ]
  },
  {
   "cell_type": "code",
   "execution_count": null,
   "metadata": {},
   "outputs": [],
   "source": [
    "gen['iscan'] = 0\n",
    "gen['nscan'] = 0\n",
    "gen['svar'] = 0.025\n",
    "gen.run()\n",
    "gen.output['run_info']"
   ]
  },
  {
   "cell_type": "code",
   "execution_count": null,
   "metadata": {},
   "outputs": [],
   "source": [
    "plt.plot(gen.output['data']['z'], gen.output['data']['power'][0]/1e9);\n",
    "plt.xlabel('Undulator distance, m'); plt.ylabel('Power, GW');\n",
    "plt.show()"
   ]
  },
  {
   "cell_type": "code",
   "execution_count": null,
   "metadata": {},
   "outputs": [],
   "source": [
    "plt.plot(gen.output['data']['z'], 1e6*gen.output['data']['xrms'][0], 'b')\n",
    "plt.plot(gen.output['data']['z'], 1e6*gen.output['data']['yrms'][0], 'g')\n",
    "plt.ylabel(r'$\\sigma,\\ \\mu m$')\n",
    "plt.xlabel(r'Undulator distance, m')\n",
    "plt.show()"
   ]
  },
  {
   "cell_type": "code",
   "execution_count": null,
   "metadata": {},
   "outputs": [],
   "source": [
    "plt.plot(gen.output['data']['z'], gen.output['data']['qfld'])\n",
    "plt.xlim([0, 80])\n",
    "plt.xlabel(\"Undultor distance, m\")\n",
    "plt.ylabel(\"dB/dz, T/m\")\n",
    "plt.twinx()\n",
    "plt.plot(gen.output['data']['z'], gen.output['data']['aw'], 'r')\n",
    "plt.ylabel(\"AW\")\n",
    "plt.show()"
   ]
  },
  {
   "cell_type": "code",
   "execution_count": null,
   "metadata": {},
   "outputs": [],
   "source": [
    "plt.plot(gen.output['data']['z'], gen.output['data']['energy'][0])"
   ]
  },
  {
   "cell_type": "markdown",
   "metadata": {},
   "source": [
    "Scan will take about 88 seconds:"
   ]
  },
  {
   "cell_type": "code",
   "execution_count": null,
   "metadata": {},
   "outputs": [],
   "source": [
    "gen['iscan'] = 4  # xlambs scan\n",
    "gen['nscan'] = 52\n",
    "gen['svar'] = 0.0025\n",
    "gen.run()\n",
    "gen.output['run_info']"
   ]
  },
  {
   "cell_type": "code",
   "execution_count": null,
   "metadata": {},
   "outputs": [],
   "source": [
    "gen.output['data']['power'].shape"
   ]
  },
  {
   "cell_type": "code",
   "execution_count": null,
   "metadata": {},
   "outputs": [],
   "source": [
    "plt.plot(1e10*gen.output['data']['current'], np.max(gen.output['data']['power']/1e9, axis=1), '.-');\n",
    "plt.xlabel(r'$\\lambda_{x-ray}$, A'); plt.ylabel('Power, GW');\n",
    "plt.xlim([1e10*gen.output['data']['current'][0], 1e10*gen.output['data']['current'][-1]])\n",
    "plt.title('Resonance curve')\n",
    "plt.show()"
   ]
  },
  {
   "cell_type": "code",
   "execution_count": null,
   "metadata": {},
   "outputs": [],
   "source": [
    "max_lamds=gen.output['data']['current'][np.argmax(np.max(gen.output['data']['power'], axis=1))]\n",
    "print(f\"Expected wavelength was {gen['xlamds']} but we have found {max_lamds}\")\n",
    "1-max_lamds/gen['xlamds']"
   ]
  },
  {
   "cell_type": "code",
   "execution_count": null,
   "metadata": {},
   "outputs": [],
   "source": [
    "plt.semilogy(gen.output['data']['z'], gen.output['data']['power'].T);\n",
    "plt.xlabel('Undulator distance, m'); plt.ylabel('Power, W');\n",
    "plt.xlim([0, gen.output['data']['z'][-1]])\n",
    "plt.show()"
   ]
  },
  {
   "cell_type": "code",
   "execution_count": null,
   "metadata": {},
   "outputs": [],
   "source": [
    "def gain(gen, n):\n",
    "    all_gain = []\n",
    "    for i in range(gen['nscan']):\n",
    "        power1 = gen.output['data']['power'][i][n+1]\n",
    "        power0 = gen.output['data']['power'][i][n-1]\n",
    "        z1 = gen.output['data']['z'][n+1]\n",
    "        z0 = gen.output['data']['z'][n-1]\n",
    "        gain = (power1-power0)/(z1-z0)/gen.output['data']['power'][i][n]\n",
    "        all_gain.append(gain)\n",
    "    return all_gain"
   ]
  },
  {
   "cell_type": "code",
   "execution_count": null,
   "metadata": {},
   "outputs": [],
   "source": [
    "gen.output['data']['z'].shape"
   ]
  },
  {
   "cell_type": "code",
   "execution_count": null,
   "metadata": {},
   "outputs": [],
   "source": [
    "n1 = 2090 + 50 \n",
    "g1 = gain(gen, n1)\n",
    "plt.plot(1e10*gen.output['data']['current'], g1, '.-', label=f\"{gen.output['data']['z'][n1]} m\");\n",
    "\n",
    "n1 = 2090 \n",
    "g1 = gain(gen, n1)\n",
    "plt.plot(1e10*gen.output['data']['current'], g1, '.-', label=f\"{gen.output['data']['z'][n1]} m\");\n",
    "\n",
    "n1 = 2090 - 50 \n",
    "g1 = gain(gen, n1)\n",
    "plt.plot(1e10*gen.output['data']['current'], g1, '.-', label=f\"{gen.output['data']['z'][n1]} m\");\n",
    "\n",
    "n1 = 2090 - 100\n",
    "g1 = gain(gen, n1)\n",
    "plt.plot(1e10*gen.output['data']['current'], g1, '.-', label=f\"{gen.output['data']['z'][n1]} m\");\n",
    "\n",
    "plt.title(\"Gain curve\")\n",
    "plt.xlabel(r'$\\lambda_{x-ray}$, A'); plt.ylabel('Gain, $m^{-1}$');\n",
    "plt.xlim([1e10*gen.output['data']['current'][0], 1e10*gen.output['data']['current'][-1]])\n",
    "plt.legend()\n",
    "plt.show()"
   ]
  },
  {
   "cell_type": "markdown",
   "metadata": {},
   "source": [
    "Will take about 6 seconds: "
   ]
  },
  {
   "cell_type": "code",
   "execution_count": null,
   "metadata": {},
   "outputs": [],
   "source": [
    "gen['xlamds'] = max_lamds\n",
    "gen['iscan'] = 0\n",
    "gen['nscan'] = 0\n",
    "gen['svar'] = 0.025\n",
    "gen.run()\n",
    "gen.output['run_info']"
   ]
  },
  {
   "cell_type": "code",
   "execution_count": null,
   "metadata": {},
   "outputs": [],
   "source": [
    "plt.plot(gen.output['data']['z'], gen.output['data']['power'][0]/1e9);\n",
    "plt.xlabel('Undulator distance, m'); plt.ylabel('Power, GW');\n",
    "plt.show()"
   ]
  },
  {
   "cell_type": "code",
   "execution_count": null,
   "metadata": {},
   "outputs": [],
   "source": [
    "np.max(gen.output['data']['power'][0]/1e9)"
   ]
  },
  {
   "cell_type": "code",
   "execution_count": null,
   "metadata": {},
   "outputs": [],
   "source": []
  }
 ],
 "metadata": {
  "kernelspec": {
   "display_name": "Python 3",
   "language": "python",
   "name": "py3"
  },
  "language_info": {
   "codemirror_mode": {
    "name": "ipython",
    "version": 3
   },
   "file_extension": ".py",
   "mimetype": "text/x-python",
   "name": "python",
   "nbconvert_exporter": "python",
   "pygments_lexer": "ipython3",
   "version": "3.7.2"
  }
 },
 "nbformat": 4,
 "nbformat_minor": 4
}
