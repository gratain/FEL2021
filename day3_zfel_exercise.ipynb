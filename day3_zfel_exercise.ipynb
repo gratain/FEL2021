{
 "cells": [
  {
   "cell_type": "markdown",
   "metadata": {},
   "source": [
    "![alt text](images/uspas.png)\n",
    "# VUV and X-ray Free Electron Lasers\n",
    "# Lab Day 3: 1D FEL Simulations with ZFEL\n",
    "\n",
    "##### Instructors: D. Nguyen, P. Anisimov, N. Neveu\n",
    "##### Teaching Assistant: Y.S. Li\n",
    "----------"
   ]
  },
  {
   "cell_type": "markdown",
   "metadata": {},
   "source": [
    "# 1. Import functions"
   ]
  },
  {
   "cell_type": "code",
   "execution_count": null,
   "metadata": {},
   "outputs": [],
   "source": [
    "import numpy as np\n",
    "%matplotlib inline\n",
    "%config InlineBackend.figure_format = 'retina'\n",
    "import matplotlib.pyplot as plt\n",
    "plt.style.use(r'PaperDoubleFig.mplstyle')\n",
    "\n",
    "from zfel import sase1d_input_part"
   ]
  },
  {
   "cell_type": "markdown",
   "metadata": {},
   "source": [
    "# 2. Select zfel inputs and outputs   "
   ]
  },
  {
   "cell_type": "markdown",
   "metadata": {},
   "source": [
    "    '''\n",
    "    SASE 1D FEL run function, INPUTS and OUTPUTS\n",
    "    Input:\n",
    "    npart                       # n-macro-particles per bucket \n",
    "    s_steps                     # n-sample points along bunch length\n",
    "    z_steps                     # n-sample points along undulator\n",
    "    energy                      # electron energy [eV]\n",
    "    eSpread                     # relative rms energy spread [ ]\n",
    "    emitN                       # normalized transverse emittance [mm-mrad]\n",
    "    currentMax                  # peak current [Ampere]\n",
    "    beta                        # mean beta [meter]\n",
    "    unduPeriod                  # undulator period [meter]\n",
    "    unduK                       # undulator parameter, K [ ]\n",
    "    unduL                       # length of undulator [meter]\n",
    "    radWavelength               # seed wavelength [meter] (if you had a seed laser), used only in single-freuqency runs\n",
    "    iopt                        # 'sase' or 'seeded'\n",
    "    P0                          # small seed input power [W]\n",
    "    constseed                   # whether we want to use constant  random seed for reproducibility, 1 Yes, 0 No\n",
    "    particle_position           # particle information with positions in meter and eta\n",
    "    hist_rule                   # different rules to select number of intervals to generate the histogram of eta value in a bucket\n",
    "\n",
    "    Output:\n",
    "    z                           # longitudinal steps along undulator\n",
    "    power_z                     # power profile along undulator                    \n",
    "    s                           # longitudinal steps along beam\n",
    "    power_s                     # power profile along beam    \n",
    "    rho                         # FEL Pierce parameter\n",
    "    gainLength                  # 1D FEL gain Length\n",
    "    resWavelength               # resonant wavelength\n",
    "    thet                        # output phase\n",
    "    eta                         # output energy in unit of mc2\n",
    "    spectrum                    # spectrum power\n",
    "    freq                        # frequency in ev\n",
    "    Ns                          # real number of examples\n",
    "    '''"
   ]
  },
  {
   "cell_type": "markdown",
   "metadata": {},
   "source": [
    "# Electron beam description\n",
    "These paramters based on LCLS hard x-ray.  \n",
    "LCLS parameters are posted periodically: https://lcls.slac.stanford.edu/sites/lcls.slac.stanford.edu/files/LCLS-Parameters-11-15-19.pdf"
   ]
  },
  {
   "cell_type": "code",
   "execution_count": null,
   "metadata": {},
   "outputs": [],
   "source": [
    "currentMax = 3e3  # maximum current [A]\n",
    "energy     = 13.6e9  # electron energy [eV]\n",
    "eSpread    = 1.e-4  # relative rms energy spread sigma_E/E\n",
    "emitN      = 0.4e-6  # normalized emittance [m-rad]\n",
    "beta       = 18  # mean beta function of the beam [m]"
   ]
  },
  {
   "cell_type": "markdown",
   "metadata": {},
   "source": [
    "# Undulator description"
   ]
  },
  {
   "cell_type": "code",
   "execution_count": null,
   "metadata": {},
   "outputs": [],
   "source": [
    "unduPeriod = 3.e-2  # undulator period []\n",
    "unduL      = 2500*unduPeriod  # undulator length [m]\n",
    "z_steps    = 100  # n-sample points along undulator; it also defines time step along bunch\n",
    "unduK      = np.full(z_steps, np.sqrt(2)*2.475)  # undulator parametr\n",
    "dEdz       = None  # not implemented"
   ]
  },
  {
   "cell_type": "markdown",
   "metadata": {},
   "source": [
    "# X-ray radiation description"
   ]
  },
  {
   "cell_type": "code",
   "execution_count": null,
   "metadata": {},
   "outputs": [],
   "source": [
    "iopt = 'sase'  # The only mode of operation\n",
    "P0   = 0.e4 * 1e9  # small seed input power [W]\n",
    "                # corrected by 1e-9 error in the code\n",
    "radWavelength =  1.5088e-10 # resonant wavelength\n",
    "s_steps = 10000 # n-samples along bunch; tail is at 0; it also defines bunch length"
   ]
  },
  {
   "cell_type": "markdown",
   "metadata": {},
   "source": [
    "# Technical description"
   ]
  },
  {
   "cell_type": "code",
   "execution_count": null,
   "metadata": {},
   "outputs": [],
   "source": [
    "Nruns = None   # not implemented\n",
    "npart = 2e9    # n-macro-particles per bucket\n",
    "constseed = 1  # use constant random seed for reproducibility,\n",
    "               # 1 Yes, 0 No\n",
    "particle_position = None  # particle distro with positions in\n",
    "                          # meter and eta\n",
    "hist_rule  = 'square-root'  # 'square-root' or 'sturges' or\n",
    "                            # 'rice-rule' or 'self-design',\n",
    "                            # number of intervals to generate\n",
    "                            # the histogram of eta value in a bucket"
   ]
  },
  {
   "cell_type": "markdown",
   "metadata": {},
   "source": [
    "# 3. Run zfel\n",
    "This may take a while..."
   ]
  },
  {
   "cell_type": "code",
   "execution_count": null,
   "metadata": {},
   "outputs": [],
   "source": [
    "# Load input parameters into zfel \n",
    "inp_struct={'Nruns':Nruns, 'npart':npart,'s_steps':s_steps,'z_steps':z_steps,\\\n",
    "            'energy':energy,'eSpread':eSpread, 'dEdz':dEdz,\\\n",
    "            'emitN':emitN,'currentMax':currentMax,'beta':beta,\\\n",
    "            'unduPeriod':unduPeriod,'unduK':unduK,'unduL':unduL, \\\n",
    "            'radWavelength':radWavelength,'iopt':iopt,'P0':P0,\\\n",
    "            'constseed':constseed,'particle_position':particle_position,'hist_rule':hist_rule}\n",
    "\n",
    "z,power_z,s,power_s,rho,detune,field,\\\n",
    "field_s,gainLength,resWavelength,\\\n",
    "thet_out,eta_out,bunching,spectrum,freq,Ns,history = sase1d_input_part.sase(inp_struct)"
   ]
  },
  {
   "cell_type": "markdown",
   "metadata": {},
   "source": [
    "# 4. Plot results\n",
    "NOTE: some data has a zero in the first position, avoid it by indexing sarting from 1 like this: data[1:]"
   ]
  },
  {
   "cell_type": "code",
   "execution_count": null,
   "metadata": {},
   "outputs": [],
   "source": [
    "plt.semilogy(z, 1e-9*power_z)\n",
    "plt.xlabel(\"Undulator distance, m\")\n",
    "plt.ylabel(\"Power (log scale), GW\")\n",
    "plt.xlim([0, unduL])\n",
    "plt.twinx()\n",
    "plt.plot(z, 1e-9*power_z, 'r')\n",
    "plt.ylabel(\"Power (lin scale), GW\")\n",
    "plt.ylim([0, 50])\n",
    "plt.show()\n",
    "\n",
    "plt.semilogy(1e-3*freq, 1e12*spectrum[1:,-1])\n",
    "plt.xlabel(\"Photon energy, keV\")\n",
    "plt.ylabel(\"Power spectrum (log scale), a.u.\")\n",
    "# plt.ylim([1e-7, 15])\n",
    "plt.twinx()\n",
    "plt.plot(1e-3*freq, 1e12*spectrum[1:,-1], 'r')\n",
    "# plt.ylim([0, 5.])\n",
    "plt.ylabel(\"Power spectrum (lin scale), a.u.\")\n",
    "plt.show()"
   ]
  },
  {
   "cell_type": "code",
   "execution_count": null,
   "metadata": {},
   "outputs": [],
   "source": [
    "power_s = output['power_s']\n",
    "plt.figure()\n",
    "for i in range(power_s.shape[0]):\n",
    "    plt.plot(s,power_s[i,:])\n",
    "plt.title('Power along the beam')\n",
    "plt.xlabel('s (um)')\n",
    "plt.ylabel('power at different z positions (W)')\n",
    "plt.show()\n",
    "\n",
    "plt.plot(1e6*s, 1e-9*power_s[-1], '-o')\n",
    "plt.xlabel(r\"Beam coordinate, $\\mu m$\")\n",
    "plt.ylabel(\"Power, GW\")"
   ]
  },
  {
   "cell_type": "markdown",
   "metadata": {},
   "source": [
    "# 5. Calculate gain length using Pierce parameter\n",
    "See page and 57 in book and lecture notes. How does this compare to the zfel rho calculation?"
   ]
  },
  {
   "cell_type": "code",
   "execution_count": null,
   "metadata": {},
   "outputs": [],
   "source": [
    "#zfel rho\n",
    "print(rho[0])"
   ]
  },
  {
   "cell_type": "markdown",
   "metadata": {},
   "source": [
    "# 6. Calculate gain length using power curve from zfel results\n",
    "See page 59 in the book."
   ]
  },
  {
   "cell_type": "code",
   "execution_count": null,
   "metadata": {},
   "outputs": [],
   "source": []
  },
  {
   "cell_type": "markdown",
   "metadata": {},
   "source": [
    "# 7. Repeat #5-6 with a new machine. \n",
    "Pick another set of parameters, can be LCLS or Marie in a different regime or a different machine.  \n",
    "Write 1-2 sentences commenting on the differences. \n",
    "Try to pick a machine you would consider using for your FEL project.   \n",
    "You can work with your project team.\n",
    "Leave your completed notebook in your student directory."
   ]
  },
  {
   "cell_type": "code",
   "execution_count": null,
   "metadata": {},
   "outputs": [],
   "source": []
  }
 ],
 "metadata": {
  "kernelspec": {
   "display_name": "Python 3",
   "language": "python",
   "name": "py3"
  },
  "language_info": {
   "codemirror_mode": {
    "name": "ipython",
    "version": 3
   },
   "file_extension": ".py",
   "mimetype": "text/x-python",
   "name": "python",
   "nbconvert_exporter": "python",
   "pygments_lexer": "ipython3",
   "version": "3.7.2"
  }
 },
 "nbformat": 4,
 "nbformat_minor": 4
}
